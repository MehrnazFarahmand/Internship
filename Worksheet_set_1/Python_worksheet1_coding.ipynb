{
 "cells": [
  {
   "cell_type": "code",
   "execution_count": 6,
   "id": "42aa70e8",
   "metadata": {},
   "outputs": [
    {
     "name": "stdout",
     "output_type": "stream",
     "text": [
      "Enter Number8\n",
      "The factorial of 8 is: 40320\n"
     ]
    }
   ],
   "source": [
    "#Q11\n",
    "\n",
    "num = int(input('Enter Number'))\n",
    "facto = 1\n",
    "for i in range(1,num+1):\n",
    "    facto= i*facto\n",
    "print('The factorial of',num, 'is:',facto) "
   ]
  },
  {
   "cell_type": "code",
   "execution_count": 14,
   "id": "a21a3486",
   "metadata": {},
   "outputs": [
    {
     "name": "stdout",
     "output_type": "stream",
     "text": [
      "Enter Number51\n",
      "Your number is composite\n"
     ]
    }
   ],
   "source": [
    "#Q12\n",
    "\n",
    "num = int(input('Enter Number'))\n",
    "\n",
    "for i in range(2,num):\n",
    "    if num%i == 0:\n",
    "        print('Your number is composite')\n",
    "        break\n",
    "else:\n",
    "    print('Your number is prime')"
   ]
  },
  {
   "cell_type": "code",
   "execution_count": 40,
   "id": "fac9ebc0",
   "metadata": {},
   "outputs": [
    {
     "name": "stdout",
     "output_type": "stream",
     "text": [
      "Enter Phrasemadam\n",
      "Your phrase is palindrome\n"
     ]
    }
   ],
   "source": [
    "#Q13\n",
    "\n",
    "string = str(input('Enter Phrase'))\n",
    "\n",
    "rev_string = string[::-1]\n",
    "\n",
    "\n",
    "if string == rev_string:\n",
    "    print('Your phrase is palindrome')\n",
    "else:\n",
    "    print('Your phrase isnt palindrome')\n"
   ]
  },
  {
   "cell_type": "code",
   "execution_count": 42,
   "id": "f57d6911",
   "metadata": {},
   "outputs": [],
   "source": [
    "import numpy as np"
   ]
  },
  {
   "cell_type": "code",
   "execution_count": 43,
   "id": "b24e4f22",
   "metadata": {},
   "outputs": [
    {
     "name": "stdout",
     "output_type": "stream",
     "text": [
      "Please enter the lenght of first side3\n",
      "Please enter the lenght of second side4\n",
      "The lenght of third side is: 5.0\n"
     ]
    }
   ],
   "source": [
    "#Q14\n",
    "\n",
    "a = int(input('Please enter the lenght of first side'))\n",
    "b = int(input('Please enter the lenght of second side'))\n",
    "\n",
    "c = np.sqrt(a**2+b**2)\n",
    "\n",
    "print('The lenght of third side is:', c)"
   ]
  },
  {
   "cell_type": "code",
   "execution_count": 45,
   "id": "97b738d7",
   "metadata": {},
   "outputs": [],
   "source": [
    "from collections import Counter"
   ]
  },
  {
   "cell_type": "code",
   "execution_count": 47,
   "id": "248749ed",
   "metadata": {},
   "outputs": [
    {
     "name": "stdout",
     "output_type": "stream",
     "text": [
      "Enter your phrasesimmons\n",
      "Counter({'s': 2, 'm': 2, 'i': 1, 'o': 1, 'n': 1})\n"
     ]
    }
   ],
   "source": [
    "#Q15\n",
    "\n",
    "string = str(input('Enter your phrase'))\n",
    "\n",
    "List = list(string)\n",
    "\n",
    "print(Counter(List))"
   ]
  },
  {
   "cell_type": "code",
   "execution_count": null,
   "id": "b21ddeac",
   "metadata": {},
   "outputs": [],
   "source": []
  }
 ],
 "metadata": {
  "kernelspec": {
   "display_name": "Python 3 (ipykernel)",
   "language": "python",
   "name": "python3"
  },
  "language_info": {
   "codemirror_mode": {
    "name": "ipython",
    "version": 3
   },
   "file_extension": ".py",
   "mimetype": "text/x-python",
   "name": "python",
   "nbconvert_exporter": "python",
   "pygments_lexer": "ipython3",
   "version": "3.9.13"
  }
 },
 "nbformat": 4,
 "nbformat_minor": 5
}
