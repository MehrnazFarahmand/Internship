{
 "cells": [
  {
   "cell_type": "code",
   "execution_count": 2,
   "id": "76e84fa6",
   "metadata": {},
   "outputs": [],
   "source": [
    "import pandas as pd\n",
    "import re"
   ]
  },
  {
   "cell_type": "code",
   "execution_count": 2,
   "id": "129f769c",
   "metadata": {},
   "outputs": [
    {
     "data": {
      "text/plain": [
       "'Python:Exercises::PHP:exercises:'"
      ]
     },
     "execution_count": 2,
     "metadata": {},
     "output_type": "execute_result"
    }
   ],
   "source": [
    "#Question1\n",
    "\n",
    "string = 'Python Exercises, PHP exercises.'\n",
    "pattern = r'\\s|\\.|\\,'\n",
    "replace = r':'\n",
    "\n",
    "re.sub(pattern,replace,string)"
   ]
  },
  {
   "cell_type": "code",
   "execution_count": 8,
   "id": "e50998d9",
   "metadata": {},
   "outputs": [
    {
     "data": {
      "text/plain": [
       "['apples', 'ears', 'and']"
      ]
     },
     "execution_count": 8,
     "metadata": {},
     "output_type": "execute_result"
    }
   ],
   "source": [
    "#Question2\n",
    "\n",
    "re.findall(r'\\ba\\w+|\\be\\w+',string)\n",
    "\n",
    "#I tried using ^ but it only worked on a and not e"
   ]
  },
  {
   "cell_type": "code",
   "execution_count": 9,
   "id": "defb8bca",
   "metadata": {},
   "outputs": [
    {
     "data": {
      "text/plain": [
       "['apples', 'ears', 'bananas']"
      ]
     },
     "execution_count": 9,
     "metadata": {},
     "output_type": "execute_result"
    }
   ],
   "source": [
    "#Question3\n",
    "\n",
    "pattern = re.compile(r'\\w{4,}')\n",
    "re.findall(pattern,string)"
   ]
  },
  {
   "cell_type": "code",
   "execution_count": 25,
   "id": "7a2ef102",
   "metadata": {},
   "outputs": [
    {
     "data": {
      "text/plain": [
       "['this', 'out', 'ears']"
      ]
     },
     "execution_count": 25,
     "metadata": {},
     "output_type": "execute_result"
    }
   ],
   "source": [
    "#Question4\n",
    "\n",
    "pattern = re.compile(r'\\b\\w{3,5}\\b')\n",
    "pattern.findall(string)"
   ]
  },
  {
   "cell_type": "code",
   "execution_count": 42,
   "id": "e6d0c391",
   "metadata": {},
   "outputs": [
    {
     "name": "stdout",
     "output_type": "stream",
     "text": [
      "example .com\n",
      "hr@fliprobo .com\n",
      "github .com\n",
      "Hello Data Science World\n",
      "Data Scientist\n"
     ]
    }
   ],
   "source": [
    "#Question5\n",
    "\n",
    "string =  [\"example (.com)\", \"hr@fliprobo (.com)\", \"github (.com)\", \"Hello (Data Science World)\", \"Data (Scientist)\"]\n",
    "\n",
    "pattern = re.compile(r'\\(|\\)')\n",
    "replace = r''\n",
    "\n",
    "for phrase in string:\n",
    "    result =re.sub(pattern,replace,phrase)\n",
    "    print(result)\n",
    "                    "
   ]
  },
  {
   "cell_type": "code",
   "execution_count": 14,
   "id": "20d563a6",
   "metadata": {
    "scrolled": true
   },
   "outputs": [
    {
     "name": "stdout",
     "output_type": "stream",
     "text": [
      "﻿[\"example \", \"hr@fliprobo \", \"github \", \"Hello \", \"Data \"]\n"
     ]
    }
   ],
   "source": [
    "#Question6\n",
    "\n",
    "with open('/Users/dan/Downloads/regex_file.txt') as file:\n",
    "    for word in file:\n",
    "        pattern = re.compile(r'\\([^()]*\\)')\n",
    "        replace = r''\n",
    "        result =re.sub(pattern,replace,word)\n",
    "        print(result)"
   ]
  },
  {
   "cell_type": "code",
   "execution_count": 207,
   "id": "56631b08",
   "metadata": {},
   "outputs": [
    {
     "data": {
      "text/plain": [
       "['Importance', 'f', 'egular', 'xpressions', 'n', 'ython']"
      ]
     },
     "execution_count": 207,
     "metadata": {},
     "output_type": "execute_result"
    }
   ],
   "source": [
    "#Question7\n",
    "\n",
    "#not sure how to fix it .\n",
    "\n",
    "string = 'ImportanceOfRegularExpressionsInPython'\n",
    "\n",
    "re.sub(r'\\B([A-Z])', r' ',string).split()"
   ]
  },
  {
   "cell_type": "code",
   "execution_count": 82,
   "id": "eaad20e5",
   "metadata": {},
   "outputs": [
    {
     "data": {
      "text/plain": [
       "'RegularExpression IsAn ImportantTopic InPython'"
      ]
     },
     "execution_count": 82,
     "metadata": {},
     "output_type": "execute_result"
    }
   ],
   "source": [
    "#Question8\n",
    "\n",
    "string = 'RegularExpression1IsAn2ImportantTopic3InPython'\n",
    "\n",
    "re.sub(r'\\B([0-9])', r' ',string)"
   ]
  },
  {
   "cell_type": "code",
   "execution_count": 83,
   "id": "d440acbc",
   "metadata": {},
   "outputs": [
    {
     "data": {
      "text/plain": [
       "'Regular xpression  s n  mportant opic  n ython'"
      ]
     },
     "execution_count": 83,
     "metadata": {},
     "output_type": "execute_result"
    }
   ],
   "source": [
    "#Question9\n",
    "\n",
    "Srting = 'RegularExpression1IsAn2ImportantTopic3InPython'\n",
    "re.sub(r'\\B([0-9]|[A-Z])', r' ',string)"
   ]
  },
  {
   "cell_type": "code",
   "execution_count": 22,
   "id": "eac75ff2",
   "metadata": {},
   "outputs": [
    {
     "name": "stdout",
     "output_type": "stream",
     "text": [
      "['xyz@domain.com', 'hr@fliprobo.com']\n"
     ]
    }
   ],
   "source": [
    "#Question10\n",
    "\n",
    "with open('/Users/dan/Downloads/email.txt') as file:\n",
    "    for word in file:\n",
    "        pattern = re.compile(r'\\w*[.]*\\@\\w*\\.com')\n",
    "        result = re.findall(pattern,word)\n",
    "        print(result)\n",
    "        "
   ]
  },
  {
   "cell_type": "code",
   "execution_count": 110,
   "id": "9932cd03",
   "metadata": {},
   "outputs": [
    {
     "data": {
      "text/plain": [
       "['G3ombol_']"
      ]
     },
     "execution_count": 110,
     "metadata": {},
     "output_type": "execute_result"
    }
   ],
   "source": [
    "#Question11\n",
    "re.findall(r'^[A-za-z0-9_]*',string)"
   ]
  },
  {
   "cell_type": "code",
   "execution_count": 117,
   "id": "1e8a0bee",
   "metadata": {},
   "outputs": [
    {
     "data": {
      "text/plain": [
       "['2']"
      ]
     },
     "execution_count": 117,
     "metadata": {},
     "output_type": "execute_result"
    }
   ],
   "source": [
    "#Question12\n",
    "\n",
    "pattern = r'^2*'"
   ]
  },
  {
   "cell_type": "code",
   "execution_count": null,
   "id": "f4e7c9d1",
   "metadata": {},
   "outputs": [],
   "source": [
    "#Question13\n",
    "\n",
    "re.sub('r[0]*\\.', '',string)"
   ]
  },
  {
   "cell_type": "code",
   "execution_count": 23,
   "id": "95ee610c",
   "metadata": {},
   "outputs": [
    {
     "name": "stdout",
     "output_type": "stream",
     "text": [
      "['Aug']\n"
     ]
    }
   ],
   "source": [
    "#Question14\n",
    "\n",
    "with open('/Users/dan/Downloads/date.txt') as file:\n",
    "    for word in file:\n",
    "        pattern = re.compile('Jan+|Feb+|Mar+|Apr+|May+|Jun+|July+|Aug+|Sep+|Oct+|Nov+|Dec+\\s+\\d{0,2}th\\s+\\d{4}')\n",
    "        result = re.findall(pattern,word)\n",
    "        print(result)"
   ]
  },
  {
   "cell_type": "code",
   "execution_count": 125,
   "id": "105b111f",
   "metadata": {},
   "outputs": [
    {
     "data": {
      "text/plain": [
       "[('', 'fox', ''), ('dog', '', '')]"
      ]
     },
     "execution_count": 125,
     "metadata": {},
     "output_type": "execute_result"
    }
   ],
   "source": [
    "#Question15\n",
    "\n",
    "string = 'The quick brown fox jumps over the lazy dog.'\n",
    "pattern = '(dog)|(fox)|(horse)'\n",
    "\n",
    "re.findall(pattern,string)"
   ]
  },
  {
   "cell_type": "code",
   "execution_count": 126,
   "id": "a12b2678",
   "metadata": {},
   "outputs": [
    {
     "data": {
      "text/plain": [
       "<re.Match object; span=(16, 19), match='fox'>"
      ]
     },
     "execution_count": 126,
     "metadata": {},
     "output_type": "execute_result"
    }
   ],
   "source": [
    "#Question16\n",
    "\n",
    "srting =  'The quick brown fox jumps over the lazy dog.'\n",
    "pattern = '(fox)'\n",
    "\n",
    "re.search(pattern,string)"
   ]
  },
  {
   "cell_type": "code",
   "execution_count": 127,
   "id": "e69b2867",
   "metadata": {},
   "outputs": [
    {
     "data": {
      "text/plain": [
       "['exercises', 'exercises', 'exercises']"
      ]
     },
     "execution_count": 127,
     "metadata": {},
     "output_type": "execute_result"
    }
   ],
   "source": [
    "#Question17\n",
    "\n",
    "string = 'Python exercises, PHP exercises, C# exercises'\n",
    "pattern = '(exercises)'\n",
    "\n",
    "re.findall(pattern,string)\n",
    "    "
   ]
  },
  {
   "cell_type": "code",
   "execution_count": 133,
   "id": "9e3e8052",
   "metadata": {},
   "outputs": [],
   "source": [
    "#Question18\n",
    "\n",
    "finditer(pattern,string)\n",
    "search(pattern,string).start()\n"
   ]
  },
  {
   "cell_type": "code",
   "execution_count": null,
   "id": "9a1158bf",
   "metadata": {},
   "outputs": [],
   "source": [
    "#Question19\n",
    "\n",
    "pattern = r'\\d{0,2}-\\d{0,2}-\\d{4}'\n",
    "\n",
    "re.sub(r'\\d{0,2}-\\d{0,2}-\\d{4}', r' \\3 \\2 \\1',string)\n"
   ]
  },
  {
   "cell_type": "code",
   "execution_count": 135,
   "id": "eb715755",
   "metadata": {},
   "outputs": [
    {
     "data": {
      "text/plain": [
       "[]"
      ]
     },
     "execution_count": 135,
     "metadata": {},
     "output_type": "execute_result"
    }
   ],
   "source": [
    "#Question20\n",
    "\n",
    "pattern = re.compile('\\d\\.\\d{2}')\n",
    "re.findall(pattern,srting)\n"
   ]
  },
  {
   "cell_type": "code",
   "execution_count": null,
   "id": "015455e1",
   "metadata": {},
   "outputs": [],
   "source": [
    "#Question21\n",
    "\n",
    "for word in string:\n",
    "    pattern = '\\d'\n",
    "    result = re.findall(pattern,string)\n",
    "    position = re.search(pattern,string).start()\n",
    "    print(result,position)"
   ]
  },
  {
   "cell_type": "code",
   "execution_count": 140,
   "id": "e52d69d0",
   "metadata": {},
   "outputs": [
    {
     "name": "stdout",
     "output_type": "stream",
     "text": [
      "950\n"
     ]
    }
   ],
   "source": [
    "#Question22\n",
    "\n",
    "string ='My marks in each semester are: 947, 896, 926, 524, 734, 950, 642'\n",
    "pattern = '\\d..'\n",
    "numbers = re.findall(pattern,string)\n",
    "result= max(numbers)\n",
    "print(result)"
   ]
  },
  {
   "cell_type": "code",
   "execution_count": 169,
   "id": "a4d28b2b",
   "metadata": {},
   "outputs": [
    {
     "data": {
      "text/plain": [
       "' egular xpression s n mportant opic n ython'"
      ]
     },
     "execution_count": 169,
     "metadata": {},
     "output_type": "execute_result"
    }
   ],
   "source": [
    "#Question23\n",
    "\n",
    "string = 'RegularExpressionIsAnImportantTopicInPython'\n",
    "pattern = r'[A-Z]'\n",
    "replace = r' '\n",
    "\n",
    "re.sub(pattern,replace,string)\n"
   ]
  },
  {
   "cell_type": "code",
   "execution_count": 191,
   "id": "32a96b09",
   "metadata": {},
   "outputs": [
    {
     "data": {
      "text/plain": [
       "['Regular', 'Expression', 'Is', 'An', 'Important', 'Topic', 'In', 'Python']"
      ]
     },
     "execution_count": 191,
     "metadata": {},
     "output_type": "execute_result"
    }
   ],
   "source": [
    "#Question24\n",
    "\n",
    "pattern = r'[A-Z]+[a-z]*'\n",
    "\n",
    "re.findall(pattern,string)\n"
   ]
  },
  {
   "cell_type": "code",
   "execution_count": 215,
   "id": "d9571f6a",
   "metadata": {},
   "outputs": [
    {
     "data": {
      "text/plain": [
       "'Hello hello world'"
      ]
     },
     "execution_count": 215,
     "metadata": {},
     "output_type": "execute_result"
    }
   ],
   "source": [
    "#Question25\n",
    "\n",
    "string = 'Hello hello world world'\n",
    "re.sub(r'\\b(\\w+)( \\1\\b)+', r'\\1',string)"
   ]
  },
  {
   "cell_type": "code",
   "execution_count": null,
   "id": "bc61ee5c",
   "metadata": {},
   "outputs": [],
   "source": [
    "#Question26\n",
    "\n",
    "pattern = r'$\\w'\n",
    "\n",
    "for word in string:\n",
    "    if re.search(pattern,word):\n",
    "        print('Accepted')\n",
    "    else:\n",
    "        print('Rejected')"
   ]
  },
  {
   "cell_type": "code",
   "execution_count": 165,
   "id": "82cbc5fd",
   "metadata": {},
   "outputs": [
    {
     "data": {
      "text/plain": [
       "['#Doltiwal', '#xyzabc', '#Demonetization']"
      ]
     },
     "execution_count": 165,
     "metadata": {},
     "output_type": "execute_result"
    }
   ],
   "source": [
    "#Question27\n",
    "\n",
    "string = 'RT @kapil_kausik: #Doltiwal I mean #xyzabc is \"hurt\" by #Demonetization as the same has rendered USELESS <ed><U+00A0><U+00BD><ed><U+00B1><U+0089> \"acquired funds\" No wo'\n",
    "pattern = r'#\\w+\\b'\n",
    "\n",
    "re.findall(pattern,string)\n"
   ]
  },
  {
   "cell_type": "code",
   "execution_count": 158,
   "id": "8c8522aa",
   "metadata": {},
   "outputs": [
    {
     "data": {
      "text/plain": [
       "'@Jags123456 Bharat band on 28??<ed><ed>Those who  are protesting #demonetization  are all different party leaders'"
      ]
     },
     "execution_count": 158,
     "metadata": {},
     "output_type": "execute_result"
    }
   ],
   "source": [
    "#Question28\n",
    "\n",
    "string =  \"@Jags123456 Bharat band on 28??<ed><U+00A0><U+00BD><ed><U+00B8><U+0082>Those who  are protesting #demonetization  are all different party leaders\"\n",
    "pattern = r'<U\\+\\w{4}>*'\n",
    "\n",
    "re.sub(pattern,r'',string)\n"
   ]
  },
  {
   "cell_type": "code",
   "execution_count": 151,
   "id": "98decaec",
   "metadata": {},
   "outputs": [
    {
     "name": "stdout",
     "output_type": "stream",
     "text": [
      "['12-09-1992', '15-12-1999']\n"
     ]
    }
   ],
   "source": [
    "#Question29\n",
    "\n",
    "with open ('/Users/dan/Downloads/number_dates.txt') as file: \n",
    "    for word in file:\n",
    "        pattern= r'\\d{0,2}-\\d{0,2}-\\d{4}'\n",
    "        result = re.findall(pattern,word)\n",
    "        print(result)"
   ]
  },
  {
   "cell_type": "code",
   "execution_count": 148,
   "id": "3516de89",
   "metadata": {},
   "outputs": [
    {
     "data": {
      "text/plain": [
       "' following example creates  ArrayList  a capacity   elements. 4 elements   added   ArrayList   ArrayList  trimmed accordingly.'"
      ]
     },
     "execution_count": 148,
     "metadata": {},
     "output_type": "execute_result"
    }
   ],
   "source": [
    "#Question30\n",
    "\n",
    "string = \"The following example creates an ArrayList with a capacity of 50 elements. 4 elements are then added to the ArrayList and the ArrayList is trimmed accordingly.\"\n",
    "pattern = re.compile(r'\\b\\w{2,4}\\b')\n",
    "\n",
    "re.sub(pattern,r'',string)\n"
   ]
  },
  {
   "cell_type": "code",
   "execution_count": null,
   "id": "5dc83362",
   "metadata": {},
   "outputs": [],
   "source": []
  }
 ],
 "metadata": {
  "kernelspec": {
   "display_name": "Python 3 (ipykernel)",
   "language": "python",
   "name": "python3"
  },
  "language_info": {
   "codemirror_mode": {
    "name": "ipython",
    "version": 3
   },
   "file_extension": ".py",
   "mimetype": "text/x-python",
   "name": "python",
   "nbconvert_exporter": "python",
   "pygments_lexer": "ipython3",
   "version": "3.9.13"
  }
 },
 "nbformat": 4,
 "nbformat_minor": 5
}
