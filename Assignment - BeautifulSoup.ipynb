{
 "cells": [
  {
   "cell_type": "code",
   "execution_count": 5,
   "id": "6637e10d",
   "metadata": {},
   "outputs": [
    {
     "name": "stdout",
     "output_type": "stream",
     "text": [
      "Defaulting to user installation because normal site-packages is not writeable\n",
      "Collecting requests\n",
      "  Downloading requests-2.31.0-py3-none-any.whl (62 kB)\n",
      "\u001b[K     |████████████████████████████████| 62 kB 2.4 MB/s  eta 0:00:01\n",
      "\u001b[?25hCollecting idna<4,>=2.5\n",
      "  Downloading idna-3.4-py3-none-any.whl (61 kB)\n",
      "\u001b[K     |████████████████████████████████| 61 kB 170 kB/s  eta 0:00:01\n",
      "\u001b[?25hCollecting charset-normalizer<4,>=2\n",
      "  Downloading charset_normalizer-3.2.0-py3-none-any.whl (46 kB)\n",
      "\u001b[K     |████████████████████████████████| 46 kB 4.9 MB/s  eta 0:00:01\n",
      "\u001b[?25hCollecting urllib3<3,>=1.21.1\n",
      "  Downloading urllib3-2.0.4-py3-none-any.whl (123 kB)\n",
      "\u001b[K     |████████████████████████████████| 123 kB 71.8 MB/s eta 0:00:01\n",
      "\u001b[?25hCollecting certifi>=2017.4.17\n",
      "  Downloading certifi-2023.7.22-py3-none-any.whl (158 kB)\n",
      "\u001b[K     |████████████████████████████████| 158 kB 41.5 MB/s eta 0:00:01\n",
      "\u001b[?25hInstalling collected packages: idna, charset-normalizer, urllib3, certifi, requests\n",
      "\u001b[33m  WARNING: The script normalizer is installed in '/Users/Mehrnaz/Library/Python/3.8/bin' which is not on PATH.\n",
      "  Consider adding this directory to PATH or, if you prefer to suppress this warning, use --no-warn-script-location.\u001b[0m\n",
      "Successfully installed certifi-2023.7.22 charset-normalizer-3.2.0 idna-3.4 requests-2.31.0 urllib3-2.0.4\n",
      "\u001b[33mWARNING: You are using pip version 20.2.3; however, version 23.2.1 is available.\n",
      "You should consider upgrading via the '/Library/Developer/CommandLineTools/usr/bin/python3 -m pip install --upgrade pip' command.\u001b[0m\n"
     ]
    }
   ],
   "source": [
    "!pip3 install requests"
   ]
  },
  {
   "cell_type": "code",
   "execution_count": 6,
   "id": "69d9abda",
   "metadata": {},
   "outputs": [
    {
     "name": "stdout",
     "output_type": "stream",
     "text": [
      "Defaulting to user installation because normal site-packages is not writeable\n",
      "Collecting bs4\n",
      "  Downloading bs4-0.0.1.tar.gz (1.1 kB)\n",
      "Collecting beautifulsoup4\n",
      "  Downloading beautifulsoup4-4.12.2-py3-none-any.whl (142 kB)\n",
      "\u001b[K     |████████████████████████████████| 142 kB 9.4 MB/s eta 0:00:01\n",
      "\u001b[?25hCollecting soupsieve>1.2\n",
      "  Downloading soupsieve-2.4.1-py3-none-any.whl (36 kB)\n",
      "Building wheels for collected packages: bs4\n",
      "  Building wheel for bs4 (setup.py) ... \u001b[?25ldone\n",
      "\u001b[?25h  Created wheel for bs4: filename=bs4-0.0.1-py3-none-any.whl size=1273 sha256=b71d0cb17439b8b8eaf759b9c456059a4bc70602d95bbc5c50640a9af9f23925\n",
      "  Stored in directory: /Users/Mehrnaz/Library/Caches/pip/wheels/75/78/21/68b124549c9bdc94f822c02fb9aa3578a669843f9767776bca\n",
      "Successfully built bs4\n",
      "Installing collected packages: soupsieve, beautifulsoup4, bs4\n",
      "Successfully installed beautifulsoup4-4.12.2 bs4-0.0.1 soupsieve-2.4.1\n",
      "\u001b[33mWARNING: You are using pip version 20.2.3; however, version 23.2.1 is available.\n",
      "You should consider upgrading via the '/Library/Developer/CommandLineTools/usr/bin/python3 -m pip install --upgrade pip' command.\u001b[0m\n"
     ]
    }
   ],
   "source": [
    "!pip3 install bs4"
   ]
  },
  {
   "cell_type": "code",
   "execution_count": 1,
   "id": "858dfcea",
   "metadata": {},
   "outputs": [],
   "source": [
    "import requests\n",
    "from bs4 import BeautifulSoup"
   ]
  },
  {
   "cell_type": "code",
   "execution_count": 10,
   "id": "11ee82d0",
   "metadata": {},
   "outputs": [],
   "source": [
    "#Question1\n",
    "\n",
    "page = requests.get('https://en.wikipedia.org/wiki/Main_Page')"
   ]
  },
  {
   "cell_type": "code",
   "execution_count": 11,
   "id": "a6ad807a",
   "metadata": {},
   "outputs": [],
   "source": [
    "soup = BeautifulSoup(page.content)"
   ]
  },
  {
   "cell_type": "code",
   "execution_count": 13,
   "id": "1c2a1594",
   "metadata": {},
   "outputs": [
    {
     "data": {
      "text/plain": [
       "<Response [200]>"
      ]
     },
     "execution_count": 13,
     "metadata": {},
     "output_type": "execute_result"
    }
   ],
   "source": [
    "page"
   ]
  },
  {
   "cell_type": "code",
   "execution_count": 20,
   "id": "5ac3a035",
   "metadata": {},
   "outputs": [],
   "source": [
    "headers = []\n",
    "\n",
    "for i in soup.find_all('span', class_=\"mw-headline\"):\n",
    "    headers.append(i.text)"
   ]
  },
  {
   "cell_type": "code",
   "execution_count": 15,
   "id": "e1cff8ef",
   "metadata": {},
   "outputs": [],
   "source": [
    "import pandas as pd"
   ]
  },
  {
   "cell_type": "code",
   "execution_count": 23,
   "id": "4bd93c5a",
   "metadata": {},
   "outputs": [],
   "source": [
    "headers_data = pd.DataFrame({'WikiHeaders': headers})"
   ]
  },
  {
   "cell_type": "code",
   "execution_count": 24,
   "id": "3c2a01cc",
   "metadata": {},
   "outputs": [
    {
     "data": {
      "text/html": [
       "<div>\n",
       "<style scoped>\n",
       "    .dataframe tbody tr th:only-of-type {\n",
       "        vertical-align: middle;\n",
       "    }\n",
       "\n",
       "    .dataframe tbody tr th {\n",
       "        vertical-align: top;\n",
       "    }\n",
       "\n",
       "    .dataframe thead th {\n",
       "        text-align: right;\n",
       "    }\n",
       "</style>\n",
       "<table border=\"1\" class=\"dataframe\">\n",
       "  <thead>\n",
       "    <tr style=\"text-align: right;\">\n",
       "      <th></th>\n",
       "      <th>WikiHeaders</th>\n",
       "    </tr>\n",
       "  </thead>\n",
       "  <tbody>\n",
       "    <tr>\n",
       "      <th>0</th>\n",
       "      <td>Welcome to Wikipedia</td>\n",
       "    </tr>\n",
       "    <tr>\n",
       "      <th>1</th>\n",
       "      <td>From today's featured article</td>\n",
       "    </tr>\n",
       "    <tr>\n",
       "      <th>2</th>\n",
       "      <td>Did you know ...</td>\n",
       "    </tr>\n",
       "    <tr>\n",
       "      <th>3</th>\n",
       "      <td>In the news</td>\n",
       "    </tr>\n",
       "    <tr>\n",
       "      <th>4</th>\n",
       "      <td>On this day</td>\n",
       "    </tr>\n",
       "    <tr>\n",
       "      <th>5</th>\n",
       "      <td>Today's featured picture</td>\n",
       "    </tr>\n",
       "    <tr>\n",
       "      <th>6</th>\n",
       "      <td>Other areas of Wikipedia</td>\n",
       "    </tr>\n",
       "    <tr>\n",
       "      <th>7</th>\n",
       "      <td>Wikipedia's sister projects</td>\n",
       "    </tr>\n",
       "    <tr>\n",
       "      <th>8</th>\n",
       "      <td>Wikipedia languages</td>\n",
       "    </tr>\n",
       "  </tbody>\n",
       "</table>\n",
       "</div>"
      ],
      "text/plain": [
       "                     WikiHeaders\n",
       "0           Welcome to Wikipedia\n",
       "1  From today's featured article\n",
       "2               Did you know ...\n",
       "3                    In the news\n",
       "4                    On this day\n",
       "5       Today's featured picture\n",
       "6       Other areas of Wikipedia\n",
       "7    Wikipedia's sister projects\n",
       "8            Wikipedia languages"
      ]
     },
     "execution_count": 24,
     "metadata": {},
     "output_type": "execute_result"
    }
   ],
   "source": [
    "#Question1 - Output\n",
    "\n",
    "headers_data"
   ]
  },
  {
   "cell_type": "code",
   "execution_count": 25,
   "id": "501daf49",
   "metadata": {},
   "outputs": [],
   "source": [
    "#Question2\n",
    "\n",
    "\n",
    "page2 = requests.get('https://presidentofindia.nic.in/index.php/former-presidents')"
   ]
  },
  {
   "cell_type": "code",
   "execution_count": 26,
   "id": "fb2355cc",
   "metadata": {},
   "outputs": [
    {
     "data": {
      "text/plain": [
       "<Response [200]>"
      ]
     },
     "execution_count": 26,
     "metadata": {},
     "output_type": "execute_result"
    }
   ],
   "source": [
    "page2"
   ]
  },
  {
   "cell_type": "code",
   "execution_count": 42,
   "id": "6a298571",
   "metadata": {},
   "outputs": [],
   "source": [
    "soup2= BeautifulSoup(page2.content)"
   ]
  },
  {
   "cell_type": "code",
   "execution_count": 47,
   "id": "2922bf03",
   "metadata": {},
   "outputs": [],
   "source": [
    "presidents = []\n",
    "\n",
    "for i in soup2.find_all('div', class_=\"desc-sec\"):\n",
    "    presidents.append(i.text.replace('\\n',''))"
   ]
  },
  {
   "cell_type": "code",
   "execution_count": 48,
   "id": "700a8c9a",
   "metadata": {},
   "outputs": [],
   "source": [
    "presidents_list = pd.DataFrame({'Former Presidents and Term': presidents})"
   ]
  },
  {
   "cell_type": "code",
   "execution_count": 49,
   "id": "3cd45de1",
   "metadata": {},
   "outputs": [
    {
     "data": {
      "text/html": [
       "<div>\n",
       "<style scoped>\n",
       "    .dataframe tbody tr th:only-of-type {\n",
       "        vertical-align: middle;\n",
       "    }\n",
       "\n",
       "    .dataframe tbody tr th {\n",
       "        vertical-align: top;\n",
       "    }\n",
       "\n",
       "    .dataframe thead th {\n",
       "        text-align: right;\n",
       "    }\n",
       "</style>\n",
       "<table border=\"1\" class=\"dataframe\">\n",
       "  <thead>\n",
       "    <tr style=\"text-align: right;\">\n",
       "      <th></th>\n",
       "      <th>Former Presidents and Term</th>\n",
       "    </tr>\n",
       "  </thead>\n",
       "  <tbody>\n",
       "    <tr>\n",
       "      <th>0</th>\n",
       "      <td>Shri Ram Nath Kovind14th President of India</td>\n",
       "    </tr>\n",
       "    <tr>\n",
       "      <th>1</th>\n",
       "      <td>Shri Pranab Mukherjee13th President of India</td>\n",
       "    </tr>\n",
       "    <tr>\n",
       "      <th>2</th>\n",
       "      <td>Smt Pratibha Devisingh Patil12th President of ...</td>\n",
       "    </tr>\n",
       "    <tr>\n",
       "      <th>3</th>\n",
       "      <td>DR. A.P.J. Abdul Kalam11th President of India</td>\n",
       "    </tr>\n",
       "    <tr>\n",
       "      <th>4</th>\n",
       "      <td>Shri K. R. Narayanan10th President of India</td>\n",
       "    </tr>\n",
       "    <tr>\n",
       "      <th>5</th>\n",
       "      <td>Dr Shankar Dayal Sharma9th  President of India</td>\n",
       "    </tr>\n",
       "    <tr>\n",
       "      <th>6</th>\n",
       "      <td>Shri R Venkataraman8th President of India</td>\n",
       "    </tr>\n",
       "    <tr>\n",
       "      <th>7</th>\n",
       "      <td>Giani Zail Singh7th President of India</td>\n",
       "    </tr>\n",
       "    <tr>\n",
       "      <th>8</th>\n",
       "      <td>Shri Neelam Sanjiva Reddy6th President of India</td>\n",
       "    </tr>\n",
       "    <tr>\n",
       "      <th>9</th>\n",
       "      <td>Dr. Fakhruddin Ali Ahmed5th President of India</td>\n",
       "    </tr>\n",
       "    <tr>\n",
       "      <th>10</th>\n",
       "      <td>Shri Varahagiri Venkata Giri4th President of I...</td>\n",
       "    </tr>\n",
       "    <tr>\n",
       "      <th>11</th>\n",
       "      <td>Dr. Zakir Husain3rd President of India</td>\n",
       "    </tr>\n",
       "    <tr>\n",
       "      <th>12</th>\n",
       "      <td>Dr. Sarvepalli Radhakrishnan2nd President of I...</td>\n",
       "    </tr>\n",
       "    <tr>\n",
       "      <th>13</th>\n",
       "      <td>Dr. Rajendra Prasad1st President of India</td>\n",
       "    </tr>\n",
       "  </tbody>\n",
       "</table>\n",
       "</div>"
      ],
      "text/plain": [
       "                           Former Presidents and Term\n",
       "0         Shri Ram Nath Kovind14th President of India\n",
       "1        Shri Pranab Mukherjee13th President of India\n",
       "2   Smt Pratibha Devisingh Patil12th President of ...\n",
       "3       DR. A.P.J. Abdul Kalam11th President of India\n",
       "4         Shri K. R. Narayanan10th President of India\n",
       "5      Dr Shankar Dayal Sharma9th  President of India\n",
       "6           Shri R Venkataraman8th President of India\n",
       "7              Giani Zail Singh7th President of India\n",
       "8     Shri Neelam Sanjiva Reddy6th President of India\n",
       "9      Dr. Fakhruddin Ali Ahmed5th President of India\n",
       "10  Shri Varahagiri Venkata Giri4th President of I...\n",
       "11             Dr. Zakir Husain3rd President of India\n",
       "12  Dr. Sarvepalli Radhakrishnan2nd President of I...\n",
       "13          Dr. Rajendra Prasad1st President of India"
      ]
     },
     "execution_count": 49,
     "metadata": {},
     "output_type": "execute_result"
    }
   ],
   "source": [
    "#Question2 _ Output\n",
    "\n",
    "presidents_list"
   ]
  },
  {
   "cell_type": "code",
   "execution_count": 141,
   "id": "65062c48",
   "metadata": {},
   "outputs": [],
   "source": [
    "#Question3\n",
    "\n",
    "page3 = requests.get('https://www.icc-cricket.com/rankings/mens/team-rankings/odi')"
   ]
  },
  {
   "cell_type": "code",
   "execution_count": 142,
   "id": "aa1f68b8",
   "metadata": {},
   "outputs": [
    {
     "data": {
      "text/plain": [
       "<Response [200]>"
      ]
     },
     "execution_count": 142,
     "metadata": {},
     "output_type": "execute_result"
    }
   ],
   "source": [
    "page3"
   ]
  },
  {
   "cell_type": "code",
   "execution_count": 143,
   "id": "bb726344",
   "metadata": {},
   "outputs": [],
   "source": [
    "soup3 = BeautifulSoup(page3.content)"
   ]
  },
  {
   "cell_type": "code",
   "execution_count": 191,
   "id": "7210c13a",
   "metadata": {},
   "outputs": [],
   "source": [
    "names = []\n",
    "\n",
    "for i in soup3.find_all('span', class_=\"u-hide-phablet\"):\n",
    "    names.append(i.text)"
   ]
  },
  {
   "cell_type": "code",
   "execution_count": 192,
   "id": "3c040cc0",
   "metadata": {},
   "outputs": [],
   "source": [
    "matches_scores = []\n",
    "\n",
    "for i in soup3.find_all('td', class_=\"table-body__cell u-center-text\"):\n",
    "    matches_scores.append(i.text)"
   ]
  },
  {
   "cell_type": "code",
   "execution_count": 193,
   "id": "975aa374",
   "metadata": {},
   "outputs": [],
   "source": [
    "ratings = []\n",
    "for i in soup3.find_all('td', class_=\"table-body__cell u-text-right rating\"):\n",
    "    ratings.append(i.text)"
   ]
  },
  {
   "cell_type": "code",
   "execution_count": 194,
   "id": "9a070f43",
   "metadata": {},
   "outputs": [],
   "source": [
    "matches = matches_scores[0:18:2]"
   ]
  },
  {
   "cell_type": "code",
   "execution_count": 195,
   "id": "8725e0d5",
   "metadata": {},
   "outputs": [],
   "source": [
    "scores = matches_scores[1:19:2]"
   ]
  },
  {
   "cell_type": "code",
   "execution_count": 196,
   "id": "8a80e041",
   "metadata": {},
   "outputs": [],
   "source": [
    "names = names[1:10]"
   ]
  },
  {
   "cell_type": "code",
   "execution_count": 197,
   "id": "62ab3330",
   "metadata": {},
   "outputs": [],
   "source": [
    "ratings = ratings[0:9]"
   ]
  },
  {
   "cell_type": "code",
   "execution_count": 198,
   "id": "35cf0650",
   "metadata": {},
   "outputs": [
    {
     "name": "stdout",
     "output_type": "stream",
     "text": [
      "9 9 9 9\n"
     ]
    }
   ],
   "source": [
    "print(len(matches),len(names),len(scores),len(ratings))"
   ]
  },
  {
   "cell_type": "code",
   "execution_count": 226,
   "id": "d3fc4472",
   "metadata": {},
   "outputs": [],
   "source": [
    "top10 = pd.DataFrame({'Teams': names, 'Matches': matches, 'Scores': scores, 'Ratings': ratings})"
   ]
  },
  {
   "cell_type": "code",
   "execution_count": 227,
   "id": "8a0afe15",
   "metadata": {},
   "outputs": [],
   "source": [
    "winner_row = pd.DataFrame({'Teams': \"Austrailia\", 'Matches': 23, 'Scores': 2714, 'Ratings': 118}, index=[0])"
   ]
  },
  {
   "cell_type": "code",
   "execution_count": 228,
   "id": "f755c6f7",
   "metadata": {},
   "outputs": [],
   "source": [
    "top10 = pd.concat([winner_row,top10]).reset_index(drop=True)"
   ]
  },
  {
   "cell_type": "code",
   "execution_count": 229,
   "id": "618a4298",
   "metadata": {},
   "outputs": [
    {
     "data": {
      "text/html": [
       "<div>\n",
       "<style scoped>\n",
       "    .dataframe tbody tr th:only-of-type {\n",
       "        vertical-align: middle;\n",
       "    }\n",
       "\n",
       "    .dataframe tbody tr th {\n",
       "        vertical-align: top;\n",
       "    }\n",
       "\n",
       "    .dataframe thead th {\n",
       "        text-align: right;\n",
       "    }\n",
       "</style>\n",
       "<table border=\"1\" class=\"dataframe\">\n",
       "  <thead>\n",
       "    <tr style=\"text-align: right;\">\n",
       "      <th></th>\n",
       "      <th>Teams</th>\n",
       "      <th>Matches</th>\n",
       "      <th>Scores</th>\n",
       "      <th>Ratings</th>\n",
       "    </tr>\n",
       "  </thead>\n",
       "  <tbody>\n",
       "    <tr>\n",
       "      <th>0</th>\n",
       "      <td>Austrailia</td>\n",
       "      <td>23</td>\n",
       "      <td>2714</td>\n",
       "      <td>118</td>\n",
       "    </tr>\n",
       "    <tr>\n",
       "      <th>1</th>\n",
       "      <td>Pakistan</td>\n",
       "      <td>20</td>\n",
       "      <td>2,316</td>\n",
       "      <td>116</td>\n",
       "    </tr>\n",
       "    <tr>\n",
       "      <th>2</th>\n",
       "      <td>India</td>\n",
       "      <td>36</td>\n",
       "      <td>4,081</td>\n",
       "      <td>113</td>\n",
       "    </tr>\n",
       "    <tr>\n",
       "      <th>3</th>\n",
       "      <td>New Zealand</td>\n",
       "      <td>27</td>\n",
       "      <td>2,806</td>\n",
       "      <td>104</td>\n",
       "    </tr>\n",
       "    <tr>\n",
       "      <th>4</th>\n",
       "      <td>England</td>\n",
       "      <td>24</td>\n",
       "      <td>2,426</td>\n",
       "      <td>101</td>\n",
       "    </tr>\n",
       "    <tr>\n",
       "      <th>5</th>\n",
       "      <td>South Africa</td>\n",
       "      <td>19</td>\n",
       "      <td>1,910</td>\n",
       "      <td>101</td>\n",
       "    </tr>\n",
       "    <tr>\n",
       "      <th>6</th>\n",
       "      <td>Bangladesh</td>\n",
       "      <td>28</td>\n",
       "      <td>2,661</td>\n",
       "      <td>95</td>\n",
       "    </tr>\n",
       "    <tr>\n",
       "      <th>7</th>\n",
       "      <td>Afghanistan</td>\n",
       "      <td>16</td>\n",
       "      <td>1,404</td>\n",
       "      <td>88</td>\n",
       "    </tr>\n",
       "    <tr>\n",
       "      <th>8</th>\n",
       "      <td>Sri Lanka</td>\n",
       "      <td>32</td>\n",
       "      <td>2,794</td>\n",
       "      <td>87</td>\n",
       "    </tr>\n",
       "    <tr>\n",
       "      <th>9</th>\n",
       "      <td>West Indies</td>\n",
       "      <td>38</td>\n",
       "      <td>2,582</td>\n",
       "      <td>68</td>\n",
       "    </tr>\n",
       "  </tbody>\n",
       "</table>\n",
       "</div>"
      ],
      "text/plain": [
       "          Teams Matches Scores Ratings\n",
       "0    Austrailia      23   2714     118\n",
       "1      Pakistan      20  2,316     116\n",
       "2         India      36  4,081     113\n",
       "3   New Zealand      27  2,806     104\n",
       "4       England      24  2,426     101\n",
       "5  South Africa      19  1,910     101\n",
       "6    Bangladesh      28  2,661      95\n",
       "7   Afghanistan      16  1,404      88\n",
       "8     Sri Lanka      32  2,794      87\n",
       "9   West Indies      38  2,582      68"
      ]
     },
     "execution_count": 229,
     "metadata": {},
     "output_type": "execute_result"
    }
   ],
   "source": [
    "#Question3a _ output\n",
    "\n",
    "top10"
   ]
  },
  {
   "cell_type": "code",
   "execution_count": 4,
   "id": "6c719d46",
   "metadata": {},
   "outputs": [],
   "source": [
    "page4 = requests.get('https://www.icc-cricket.com/rankings/mens/player-rankings/odi')"
   ]
  },
  {
   "cell_type": "code",
   "execution_count": 5,
   "id": "27f09e3a",
   "metadata": {},
   "outputs": [],
   "source": [
    "soup4= BeautifulSoup(page4.content)"
   ]
  },
  {
   "cell_type": "code",
   "execution_count": 6,
   "id": "809b9ab8",
   "metadata": {},
   "outputs": [],
   "source": [
    "players= [] \n",
    "for i in soup4.find_all('td', class_=\"table-body__cell name\"):\n",
    "    players.append(i.text.replace('\\n',''))"
   ]
  },
  {
   "cell_type": "code",
   "execution_count": 7,
   "id": "cf5123bc",
   "metadata": {},
   "outputs": [],
   "source": [
    "teams = []\n",
    "for i in soup4.find_all('span', class_=\"table-body__logo-text\"):\n",
    "    teams.append(i.text)"
   ]
  },
  {
   "cell_type": "code",
   "execution_count": 8,
   "id": "bd9a99c0",
   "metadata": {},
   "outputs": [],
   "source": [
    "ratings = []\n",
    "for i in soup4.find_all('td', class_=\"table-body__cell u-text-right rating\"):\n",
    "    ratings.append(i.text)"
   ]
  },
  {
   "cell_type": "code",
   "execution_count": 9,
   "id": "e84ec7b7",
   "metadata": {},
   "outputs": [],
   "source": [
    "top_player = pd.DataFrame({'Name':'Babar Azam' , 'Team':'PAK' , 'Rating': 886 }, index=[0])"
   ]
  },
  {
   "cell_type": "code",
   "execution_count": 10,
   "id": "7779eeaa",
   "metadata": {},
   "outputs": [],
   "source": [
    "top10 = pd.DataFrame({'Name': players[0:9] , 'Team': teams[0:9] , 'Rating': ratings[0:9] })"
   ]
  },
  {
   "cell_type": "code",
   "execution_count": 11,
   "id": "acdc9bed",
   "metadata": {},
   "outputs": [],
   "source": [
    "top10 = pd.concat([top_player,top10]).reset_index(drop=True)"
   ]
  },
  {
   "cell_type": "code",
   "execution_count": 12,
   "id": "bb36da5e",
   "metadata": {},
   "outputs": [
    {
     "data": {
      "text/html": [
       "<div>\n",
       "<style scoped>\n",
       "    .dataframe tbody tr th:only-of-type {\n",
       "        vertical-align: middle;\n",
       "    }\n",
       "\n",
       "    .dataframe tbody tr th {\n",
       "        vertical-align: top;\n",
       "    }\n",
       "\n",
       "    .dataframe thead th {\n",
       "        text-align: right;\n",
       "    }\n",
       "</style>\n",
       "<table border=\"1\" class=\"dataframe\">\n",
       "  <thead>\n",
       "    <tr style=\"text-align: right;\">\n",
       "      <th></th>\n",
       "      <th>Name</th>\n",
       "      <th>Team</th>\n",
       "      <th>Rating</th>\n",
       "    </tr>\n",
       "  </thead>\n",
       "  <tbody>\n",
       "    <tr>\n",
       "      <th>0</th>\n",
       "      <td>Babar Azam</td>\n",
       "      <td>PAK</td>\n",
       "      <td>886</td>\n",
       "    </tr>\n",
       "    <tr>\n",
       "      <th>1</th>\n",
       "      <td>Rassie van der Dussen</td>\n",
       "      <td>SA</td>\n",
       "      <td>777</td>\n",
       "    </tr>\n",
       "    <tr>\n",
       "      <th>2</th>\n",
       "      <td>Fakhar Zaman</td>\n",
       "      <td>PAK</td>\n",
       "      <td>755</td>\n",
       "    </tr>\n",
       "    <tr>\n",
       "      <th>3</th>\n",
       "      <td>Imam-ul-Haq</td>\n",
       "      <td>PAK</td>\n",
       "      <td>745</td>\n",
       "    </tr>\n",
       "    <tr>\n",
       "      <th>4</th>\n",
       "      <td>Shubman Gill</td>\n",
       "      <td>IND</td>\n",
       "      <td>743</td>\n",
       "    </tr>\n",
       "    <tr>\n",
       "      <th>5</th>\n",
       "      <td>Harry Tector</td>\n",
       "      <td>IRE</td>\n",
       "      <td>726</td>\n",
       "    </tr>\n",
       "    <tr>\n",
       "      <th>6</th>\n",
       "      <td>David Warner</td>\n",
       "      <td>AUS</td>\n",
       "      <td>726</td>\n",
       "    </tr>\n",
       "    <tr>\n",
       "      <th>7</th>\n",
       "      <td>Quinton de Kock</td>\n",
       "      <td>SA</td>\n",
       "      <td>718</td>\n",
       "    </tr>\n",
       "    <tr>\n",
       "      <th>8</th>\n",
       "      <td>Virat Kohli</td>\n",
       "      <td>IND</td>\n",
       "      <td>705</td>\n",
       "    </tr>\n",
       "    <tr>\n",
       "      <th>9</th>\n",
       "      <td>Steve Smith</td>\n",
       "      <td>AUS</td>\n",
       "      <td>702</td>\n",
       "    </tr>\n",
       "  </tbody>\n",
       "</table>\n",
       "</div>"
      ],
      "text/plain": [
       "                    Name Team Rating\n",
       "0             Babar Azam  PAK    886\n",
       "1  Rassie van der Dussen   SA    777\n",
       "2           Fakhar Zaman  PAK    755\n",
       "3            Imam-ul-Haq  PAK    745\n",
       "4           Shubman Gill  IND    743\n",
       "5           Harry Tector  IRE    726\n",
       "6           David Warner  AUS    726\n",
       "7        Quinton de Kock   SA    718\n",
       "8            Virat Kohli  IND    705\n",
       "9            Steve Smith  AUS    702"
      ]
     },
     "execution_count": 12,
     "metadata": {},
     "output_type": "execute_result"
    }
   ],
   "source": [
    "#Question3b _ output\n",
    "\n",
    "top10"
   ]
  },
  {
   "cell_type": "code",
   "execution_count": 23,
   "id": "27940097",
   "metadata": {},
   "outputs": [],
   "source": [
    "top10_bowl = pd.DataFrame({'Name': players[9:18] , 'Team': teams[9:18] , 'Rating': ratings[9:18] })"
   ]
  },
  {
   "cell_type": "code",
   "execution_count": 24,
   "id": "dcc81edb",
   "metadata": {},
   "outputs": [],
   "source": [
    "top_bowl_player = pd.DataFrame({'Name':'Josh Hazlewood' , 'Team':'AUS' , 'Rating': 705 }, index=[0])"
   ]
  },
  {
   "cell_type": "code",
   "execution_count": 25,
   "id": "b4e2a19c",
   "metadata": {},
   "outputs": [],
   "source": [
    "top10_bowl = pd.concat([top_bowl_player,top10_bowl]).reset_index(drop=True)"
   ]
  },
  {
   "cell_type": "code",
   "execution_count": 26,
   "id": "5bf5686a",
   "metadata": {},
   "outputs": [
    {
     "data": {
      "text/html": [
       "<div>\n",
       "<style scoped>\n",
       "    .dataframe tbody tr th:only-of-type {\n",
       "        vertical-align: middle;\n",
       "    }\n",
       "\n",
       "    .dataframe tbody tr th {\n",
       "        vertical-align: top;\n",
       "    }\n",
       "\n",
       "    .dataframe thead th {\n",
       "        text-align: right;\n",
       "    }\n",
       "</style>\n",
       "<table border=\"1\" class=\"dataframe\">\n",
       "  <thead>\n",
       "    <tr style=\"text-align: right;\">\n",
       "      <th></th>\n",
       "      <th>Name</th>\n",
       "      <th>Team</th>\n",
       "      <th>Rating</th>\n",
       "    </tr>\n",
       "  </thead>\n",
       "  <tbody>\n",
       "    <tr>\n",
       "      <th>0</th>\n",
       "      <td>Josh Hazlewood</td>\n",
       "      <td>AUS</td>\n",
       "      <td>705</td>\n",
       "    </tr>\n",
       "    <tr>\n",
       "      <th>1</th>\n",
       "      <td>Mitchell Starc</td>\n",
       "      <td>AUS</td>\n",
       "      <td>686</td>\n",
       "    </tr>\n",
       "    <tr>\n",
       "      <th>2</th>\n",
       "      <td>Rashid Khan</td>\n",
       "      <td>AFG</td>\n",
       "      <td>682</td>\n",
       "    </tr>\n",
       "    <tr>\n",
       "      <th>3</th>\n",
       "      <td>Mohammed Siraj</td>\n",
       "      <td>IND</td>\n",
       "      <td>670</td>\n",
       "    </tr>\n",
       "    <tr>\n",
       "      <th>4</th>\n",
       "      <td>Matt Henry</td>\n",
       "      <td>NZ</td>\n",
       "      <td>667</td>\n",
       "    </tr>\n",
       "    <tr>\n",
       "      <th>5</th>\n",
       "      <td>Mujeeb Ur Rahman</td>\n",
       "      <td>AFG</td>\n",
       "      <td>661</td>\n",
       "    </tr>\n",
       "    <tr>\n",
       "      <th>6</th>\n",
       "      <td>Trent Boult</td>\n",
       "      <td>NZ</td>\n",
       "      <td>660</td>\n",
       "    </tr>\n",
       "    <tr>\n",
       "      <th>7</th>\n",
       "      <td>Adam Zampa</td>\n",
       "      <td>AUS</td>\n",
       "      <td>652</td>\n",
       "    </tr>\n",
       "    <tr>\n",
       "      <th>8</th>\n",
       "      <td>Shaheen Afridi</td>\n",
       "      <td>PAK</td>\n",
       "      <td>630</td>\n",
       "    </tr>\n",
       "    <tr>\n",
       "      <th>9</th>\n",
       "      <td>Kuldeep Yadav</td>\n",
       "      <td>IND</td>\n",
       "      <td>622</td>\n",
       "    </tr>\n",
       "  </tbody>\n",
       "</table>\n",
       "</div>"
      ],
      "text/plain": [
       "               Name Team Rating\n",
       "0    Josh Hazlewood  AUS    705\n",
       "1    Mitchell Starc  AUS    686\n",
       "2       Rashid Khan  AFG    682\n",
       "3    Mohammed Siraj  IND    670\n",
       "4        Matt Henry   NZ    667\n",
       "5  Mujeeb Ur Rahman  AFG    661\n",
       "6       Trent Boult   NZ    660\n",
       "7        Adam Zampa  AUS    652\n",
       "8    Shaheen Afridi  PAK    630\n",
       "9     Kuldeep Yadav  IND    622"
      ]
     },
     "execution_count": 26,
     "metadata": {},
     "output_type": "execute_result"
    }
   ],
   "source": [
    "#Question3c _ output\n",
    "\n",
    "top10_bowl"
   ]
  },
  {
   "cell_type": "code",
   "execution_count": 27,
   "id": "ffda8be5",
   "metadata": {},
   "outputs": [],
   "source": [
    "#Question4\n",
    "\n",
    "page5 = requests.get('https://www.icc-cricket.com/rankings/womens/team-rankings/odi')"
   ]
  },
  {
   "cell_type": "code",
   "execution_count": 28,
   "id": "ff2f1f0c",
   "metadata": {},
   "outputs": [
    {
     "data": {
      "text/plain": [
       "<Response [200]>"
      ]
     },
     "execution_count": 28,
     "metadata": {},
     "output_type": "execute_result"
    }
   ],
   "source": [
    "page5"
   ]
  },
  {
   "cell_type": "code",
   "execution_count": 29,
   "id": "7de65bb5",
   "metadata": {},
   "outputs": [],
   "source": [
    "soup5 = BeautifulSoup(page5.content)"
   ]
  },
  {
   "cell_type": "code",
   "execution_count": 30,
   "id": "72f0feac",
   "metadata": {},
   "outputs": [],
   "source": [
    "names = []\n",
    "\n",
    "for i in soup5.find_all('span', class_=\"u-hide-phablet\"):\n",
    "    names.append(i.text)"
   ]
  },
  {
   "cell_type": "code",
   "execution_count": 31,
   "id": "17f55675",
   "metadata": {},
   "outputs": [],
   "source": [
    "matches_scores = []\n",
    "\n",
    "for i in soup5.find_all('td', class_=\"table-body__cell u-center-text\"):\n",
    "    matches_scores.append(i.text)"
   ]
  },
  {
   "cell_type": "code",
   "execution_count": 32,
   "id": "c4054609",
   "metadata": {},
   "outputs": [],
   "source": [
    "ratings = []\n",
    "for i in soup5.find_all('td', class_=\"table-body__cell u-text-right rating\"):\n",
    "    ratings.append(i.text)"
   ]
  },
  {
   "cell_type": "code",
   "execution_count": 34,
   "id": "b715d250",
   "metadata": {},
   "outputs": [],
   "source": [
    "top10_women = pd.DataFrame({'Teams': names[1:10], 'Matches': matches_scores[0:18:2], 'Scores': matches_scores[1:19:2], 'Ratings': ratings[0:9]})"
   ]
  },
  {
   "cell_type": "code",
   "execution_count": 35,
   "id": "af4374a5",
   "metadata": {},
   "outputs": [],
   "source": [
    "winner_row = pd.DataFrame({'Teams': \"Austrailia\", 'Matches': 26, 'Scores': 4290, 'Ratings': 165}, index=[0])"
   ]
  },
  {
   "cell_type": "code",
   "execution_count": 36,
   "id": "6a36cbff",
   "metadata": {},
   "outputs": [],
   "source": [
    "top10_women = pd.concat([winner_row,top10_women]).reset_index(drop=True)"
   ]
  },
  {
   "cell_type": "code",
   "execution_count": 37,
   "id": "79de2688",
   "metadata": {},
   "outputs": [
    {
     "data": {
      "text/html": [
       "<div>\n",
       "<style scoped>\n",
       "    .dataframe tbody tr th:only-of-type {\n",
       "        vertical-align: middle;\n",
       "    }\n",
       "\n",
       "    .dataframe tbody tr th {\n",
       "        vertical-align: top;\n",
       "    }\n",
       "\n",
       "    .dataframe thead th {\n",
       "        text-align: right;\n",
       "    }\n",
       "</style>\n",
       "<table border=\"1\" class=\"dataframe\">\n",
       "  <thead>\n",
       "    <tr style=\"text-align: right;\">\n",
       "      <th></th>\n",
       "      <th>Teams</th>\n",
       "      <th>Matches</th>\n",
       "      <th>Scores</th>\n",
       "      <th>Ratings</th>\n",
       "    </tr>\n",
       "  </thead>\n",
       "  <tbody>\n",
       "    <tr>\n",
       "      <th>0</th>\n",
       "      <td>Austrailia</td>\n",
       "      <td>26</td>\n",
       "      <td>4290</td>\n",
       "      <td>165</td>\n",
       "    </tr>\n",
       "    <tr>\n",
       "      <th>1</th>\n",
       "      <td>England</td>\n",
       "      <td>31</td>\n",
       "      <td>3,875</td>\n",
       "      <td>125</td>\n",
       "    </tr>\n",
       "    <tr>\n",
       "      <th>2</th>\n",
       "      <td>South Africa</td>\n",
       "      <td>26</td>\n",
       "      <td>3,098</td>\n",
       "      <td>119</td>\n",
       "    </tr>\n",
       "    <tr>\n",
       "      <th>3</th>\n",
       "      <td>India</td>\n",
       "      <td>30</td>\n",
       "      <td>3,039</td>\n",
       "      <td>101</td>\n",
       "    </tr>\n",
       "    <tr>\n",
       "      <th>4</th>\n",
       "      <td>New Zealand</td>\n",
       "      <td>28</td>\n",
       "      <td>2,688</td>\n",
       "      <td>96</td>\n",
       "    </tr>\n",
       "    <tr>\n",
       "      <th>5</th>\n",
       "      <td>West Indies</td>\n",
       "      <td>29</td>\n",
       "      <td>2,743</td>\n",
       "      <td>95</td>\n",
       "    </tr>\n",
       "    <tr>\n",
       "      <th>6</th>\n",
       "      <td>Bangladesh</td>\n",
       "      <td>17</td>\n",
       "      <td>1,284</td>\n",
       "      <td>76</td>\n",
       "    </tr>\n",
       "    <tr>\n",
       "      <th>7</th>\n",
       "      <td>Sri Lanka</td>\n",
       "      <td>12</td>\n",
       "      <td>820</td>\n",
       "      <td>68</td>\n",
       "    </tr>\n",
       "    <tr>\n",
       "      <th>8</th>\n",
       "      <td>Thailand</td>\n",
       "      <td>13</td>\n",
       "      <td>883</td>\n",
       "      <td>68</td>\n",
       "    </tr>\n",
       "    <tr>\n",
       "      <th>9</th>\n",
       "      <td>Pakistan</td>\n",
       "      <td>27</td>\n",
       "      <td>1,678</td>\n",
       "      <td>62</td>\n",
       "    </tr>\n",
       "  </tbody>\n",
       "</table>\n",
       "</div>"
      ],
      "text/plain": [
       "          Teams Matches Scores Ratings\n",
       "0    Austrailia      26   4290     165\n",
       "1       England      31  3,875     125\n",
       "2  South Africa      26  3,098     119\n",
       "3         India      30  3,039     101\n",
       "4   New Zealand      28  2,688      96\n",
       "5   West Indies      29  2,743      95\n",
       "6    Bangladesh      17  1,284      76\n",
       "7     Sri Lanka      12    820      68\n",
       "8      Thailand      13    883      68\n",
       "9      Pakistan      27  1,678      62"
      ]
     },
     "execution_count": 37,
     "metadata": {},
     "output_type": "execute_result"
    }
   ],
   "source": [
    "#Question4a _ output\n",
    "\n",
    "top10_women"
   ]
  },
  {
   "cell_type": "code",
   "execution_count": 38,
   "id": "dd22f40f",
   "metadata": {},
   "outputs": [],
   "source": [
    "page6 = requests.get('https://www.icc-cricket.com/rankings/womens/player-rankings/odi')"
   ]
  },
  {
   "cell_type": "code",
   "execution_count": 39,
   "id": "aec6fdcd",
   "metadata": {},
   "outputs": [
    {
     "data": {
      "text/plain": [
       "<Response [200]>"
      ]
     },
     "execution_count": 39,
     "metadata": {},
     "output_type": "execute_result"
    }
   ],
   "source": [
    "page6"
   ]
  },
  {
   "cell_type": "code",
   "execution_count": 40,
   "id": "20d72018",
   "metadata": {},
   "outputs": [],
   "source": [
    "soup6 = BeautifulSoup(page6.content)"
   ]
  },
  {
   "cell_type": "code",
   "execution_count": 43,
   "id": "71967fb4",
   "metadata": {},
   "outputs": [],
   "source": [
    "players= [] \n",
    "for i in soup6.find_all('td', class_=\"table-body__cell name\"):\n",
    "    players.append(i.text.replace('\\n',''))"
   ]
  },
  {
   "cell_type": "code",
   "execution_count": 45,
   "id": "9723e8cf",
   "metadata": {},
   "outputs": [],
   "source": [
    "teams = []\n",
    "for i in soup6.find_all('span', class_=\"table-body__logo-text\"):\n",
    "    teams.append(i.text)"
   ]
  },
  {
   "cell_type": "code",
   "execution_count": 47,
   "id": "dd0fdf4a",
   "metadata": {},
   "outputs": [],
   "source": [
    "ratings = []\n",
    "for i in soup6.find_all('td', class_=\"table-body__cell u-text-right rating\"):\n",
    "    ratings.append(i.text)"
   ]
  },
  {
   "cell_type": "code",
   "execution_count": 48,
   "id": "e50482ff",
   "metadata": {},
   "outputs": [],
   "source": [
    "top10_batwomen = pd.DataFrame({'Name': players[0:9] , 'Team': teams[0:9] , 'Rating': ratings[0:9] })"
   ]
  },
  {
   "cell_type": "code",
   "execution_count": 49,
   "id": "0fb6ae53",
   "metadata": {},
   "outputs": [],
   "source": [
    "top_batwoman = pd.DataFrame({'Name':'Natalie Sciver-Brunt','Team':'ENG' , 'Rating': 803 }, index=[0])"
   ]
  },
  {
   "cell_type": "code",
   "execution_count": 53,
   "id": "df40ef97",
   "metadata": {},
   "outputs": [],
   "source": [
    "top10_batwomen = pd.concat([top_batwoman,top10_batwomen]).reset_index(drop=True)"
   ]
  },
  {
   "cell_type": "code",
   "execution_count": 54,
   "id": "aafff031",
   "metadata": {},
   "outputs": [
    {
     "data": {
      "text/html": [
       "<div>\n",
       "<style scoped>\n",
       "    .dataframe tbody tr th:only-of-type {\n",
       "        vertical-align: middle;\n",
       "    }\n",
       "\n",
       "    .dataframe tbody tr th {\n",
       "        vertical-align: top;\n",
       "    }\n",
       "\n",
       "    .dataframe thead th {\n",
       "        text-align: right;\n",
       "    }\n",
       "</style>\n",
       "<table border=\"1\" class=\"dataframe\">\n",
       "  <thead>\n",
       "    <tr style=\"text-align: right;\">\n",
       "      <th></th>\n",
       "      <th>Name</th>\n",
       "      <th>Team</th>\n",
       "      <th>Rating</th>\n",
       "    </tr>\n",
       "  </thead>\n",
       "  <tbody>\n",
       "    <tr>\n",
       "      <th>0</th>\n",
       "      <td>Natalie Sciver-Brunt</td>\n",
       "      <td>ENG</td>\n",
       "      <td>803</td>\n",
       "    </tr>\n",
       "    <tr>\n",
       "      <th>1</th>\n",
       "      <td>Chamari Athapaththu</td>\n",
       "      <td>SL</td>\n",
       "      <td>758</td>\n",
       "    </tr>\n",
       "    <tr>\n",
       "      <th>2</th>\n",
       "      <td>Beth Mooney</td>\n",
       "      <td>AUS</td>\n",
       "      <td>751</td>\n",
       "    </tr>\n",
       "    <tr>\n",
       "      <th>3</th>\n",
       "      <td>Laura Wolvaardt</td>\n",
       "      <td>SA</td>\n",
       "      <td>732</td>\n",
       "    </tr>\n",
       "    <tr>\n",
       "      <th>4</th>\n",
       "      <td>Smriti Mandhana</td>\n",
       "      <td>IND</td>\n",
       "      <td>708</td>\n",
       "    </tr>\n",
       "    <tr>\n",
       "      <th>5</th>\n",
       "      <td>Alyssa Healy</td>\n",
       "      <td>AUS</td>\n",
       "      <td>702</td>\n",
       "    </tr>\n",
       "    <tr>\n",
       "      <th>6</th>\n",
       "      <td>Harmanpreet Kaur</td>\n",
       "      <td>IND</td>\n",
       "      <td>694</td>\n",
       "    </tr>\n",
       "    <tr>\n",
       "      <th>7</th>\n",
       "      <td>Ellyse Perry</td>\n",
       "      <td>AUS</td>\n",
       "      <td>686</td>\n",
       "    </tr>\n",
       "    <tr>\n",
       "      <th>8</th>\n",
       "      <td>Meg Lanning</td>\n",
       "      <td>AUS</td>\n",
       "      <td>682</td>\n",
       "    </tr>\n",
       "    <tr>\n",
       "      <th>9</th>\n",
       "      <td>Stafanie Taylor</td>\n",
       "      <td>WI</td>\n",
       "      <td>618</td>\n",
       "    </tr>\n",
       "  </tbody>\n",
       "</table>\n",
       "</div>"
      ],
      "text/plain": [
       "                   Name Team Rating\n",
       "0  Natalie Sciver-Brunt  ENG    803\n",
       "1   Chamari Athapaththu   SL    758\n",
       "2           Beth Mooney  AUS    751\n",
       "3       Laura Wolvaardt   SA    732\n",
       "4       Smriti Mandhana  IND    708\n",
       "5          Alyssa Healy  AUS    702\n",
       "6      Harmanpreet Kaur  IND    694\n",
       "7          Ellyse Perry  AUS    686\n",
       "8           Meg Lanning  AUS    682\n",
       "9       Stafanie Taylor   WI    618"
      ]
     },
     "execution_count": 54,
     "metadata": {},
     "output_type": "execute_result"
    }
   ],
   "source": [
    "#Question4b _ output\n",
    "\n",
    "top10_batwomen"
   ]
  },
  {
   "cell_type": "code",
   "execution_count": 63,
   "id": "45caf5dc",
   "metadata": {},
   "outputs": [],
   "source": [
    "top10_allround_women = pd.DataFrame({'Name': players[18:28] , 'Team': teams[18:28] , 'Rating': ratings[18:28] })"
   ]
  },
  {
   "cell_type": "code",
   "execution_count": 64,
   "id": "52998552",
   "metadata": {},
   "outputs": [],
   "source": [
    "top_allround_woman = pd.DataFrame({'Name':'Natalie Sciver-Brunt','Team':'ENG' , 'Rating': 421 }, index=[0])"
   ]
  },
  {
   "cell_type": "code",
   "execution_count": 65,
   "id": "22a29948",
   "metadata": {},
   "outputs": [],
   "source": [
    "top10_allround_women = pd.concat([top_allround_woman,top10_allround_women]).reset_index(drop=True)"
   ]
  },
  {
   "cell_type": "code",
   "execution_count": 66,
   "id": "e88e459a",
   "metadata": {},
   "outputs": [
    {
     "data": {
      "text/html": [
       "<div>\n",
       "<style scoped>\n",
       "    .dataframe tbody tr th:only-of-type {\n",
       "        vertical-align: middle;\n",
       "    }\n",
       "\n",
       "    .dataframe tbody tr th {\n",
       "        vertical-align: top;\n",
       "    }\n",
       "\n",
       "    .dataframe thead th {\n",
       "        text-align: right;\n",
       "    }\n",
       "</style>\n",
       "<table border=\"1\" class=\"dataframe\">\n",
       "  <thead>\n",
       "    <tr style=\"text-align: right;\">\n",
       "      <th></th>\n",
       "      <th>Name</th>\n",
       "      <th>Team</th>\n",
       "      <th>Rating</th>\n",
       "    </tr>\n",
       "  </thead>\n",
       "  <tbody>\n",
       "    <tr>\n",
       "      <th>0</th>\n",
       "      <td>Natalie Sciver-Brunt</td>\n",
       "      <td>ENG</td>\n",
       "      <td>421</td>\n",
       "    </tr>\n",
       "    <tr>\n",
       "      <th>1</th>\n",
       "      <td>Ashleigh Gardner</td>\n",
       "      <td>AUS</td>\n",
       "      <td>389</td>\n",
       "    </tr>\n",
       "    <tr>\n",
       "      <th>2</th>\n",
       "      <td>Hayley Matthews</td>\n",
       "      <td>WI</td>\n",
       "      <td>382</td>\n",
       "    </tr>\n",
       "    <tr>\n",
       "      <th>3</th>\n",
       "      <td>Marizanne Kapp</td>\n",
       "      <td>SA</td>\n",
       "      <td>349</td>\n",
       "    </tr>\n",
       "    <tr>\n",
       "      <th>4</th>\n",
       "      <td>Ellyse Perry</td>\n",
       "      <td>AUS</td>\n",
       "      <td>329</td>\n",
       "    </tr>\n",
       "    <tr>\n",
       "      <th>5</th>\n",
       "      <td>Amelia Kerr</td>\n",
       "      <td>NZ</td>\n",
       "      <td>328</td>\n",
       "    </tr>\n",
       "    <tr>\n",
       "      <th>6</th>\n",
       "      <td>Deepti Sharma</td>\n",
       "      <td>IND</td>\n",
       "      <td>312</td>\n",
       "    </tr>\n",
       "    <tr>\n",
       "      <th>7</th>\n",
       "      <td>Jess Jonassen</td>\n",
       "      <td>AUS</td>\n",
       "      <td>241</td>\n",
       "    </tr>\n",
       "    <tr>\n",
       "      <th>8</th>\n",
       "      <td>Sophie Devine</td>\n",
       "      <td>NZ</td>\n",
       "      <td>233</td>\n",
       "    </tr>\n",
       "    <tr>\n",
       "      <th>9</th>\n",
       "      <td>Nida Dar</td>\n",
       "      <td>PAK</td>\n",
       "      <td>232</td>\n",
       "    </tr>\n",
       "  </tbody>\n",
       "</table>\n",
       "</div>"
      ],
      "text/plain": [
       "                   Name Team Rating\n",
       "0  Natalie Sciver-Brunt  ENG    421\n",
       "1      Ashleigh Gardner  AUS    389\n",
       "2       Hayley Matthews   WI    382\n",
       "3        Marizanne Kapp   SA    349\n",
       "4          Ellyse Perry  AUS    329\n",
       "5           Amelia Kerr   NZ    328\n",
       "6         Deepti Sharma  IND    312\n",
       "7         Jess Jonassen  AUS    241\n",
       "8         Sophie Devine   NZ    233\n",
       "9              Nida Dar  PAK    232"
      ]
     },
     "execution_count": 66,
     "metadata": {},
     "output_type": "execute_result"
    }
   ],
   "source": [
    "#Question4c _ output\n",
    "\n",
    "top10_allround_women"
   ]
  },
  {
   "cell_type": "code",
   "execution_count": 2,
   "id": "394bf6cc",
   "metadata": {},
   "outputs": [],
   "source": [
    "#Question5\n",
    "\n",
    "page7 = requests.get('https://www.cnbc.com/world/?region=world')"
   ]
  },
  {
   "cell_type": "code",
   "execution_count": 3,
   "id": "23480800",
   "metadata": {},
   "outputs": [
    {
     "data": {
      "text/plain": [
       "<Response [200]>"
      ]
     },
     "execution_count": 3,
     "metadata": {},
     "output_type": "execute_result"
    }
   ],
   "source": [
    "page7"
   ]
  },
  {
   "cell_type": "code",
   "execution_count": 4,
   "id": "4a726b07",
   "metadata": {},
   "outputs": [],
   "source": [
    "soup7 = BeautifulSoup(page7.content)"
   ]
  },
  {
   "cell_type": "code",
   "execution_count": 5,
   "id": "03f33734",
   "metadata": {},
   "outputs": [],
   "source": [
    "headlines = []\n",
    "for i in soup7.find_all('a', class_=\"LatestNews-headline\"):\n",
    "    headlines.append(i.text)"
   ]
  },
  {
   "cell_type": "code",
   "execution_count": 8,
   "id": "910b68b2",
   "metadata": {},
   "outputs": [],
   "source": [
    "times = []\n",
    "for i in soup7.find_all('time', class_=\"LatestNews-timestamp\"):\n",
    "    times.append(i.text)"
   ]
  },
  {
   "cell_type": "code",
   "execution_count": 13,
   "id": "dd5c0b6a",
   "metadata": {},
   "outputs": [],
   "source": [
    "links = []\n",
    "for i in soup7.find_all('a', class_=\"LatestNews-headline\"):\n",
    "    links.append(i.get('href'))"
   ]
  },
  {
   "cell_type": "code",
   "execution_count": 16,
   "id": "4c6cc109",
   "metadata": {},
   "outputs": [],
   "source": [
    "latest_news = pd.DataFrame({'Headlines': headlines, 'Publish Time': times, 'News_link': links})"
   ]
  },
  {
   "cell_type": "code",
   "execution_count": 18,
   "id": "cc625449",
   "metadata": {},
   "outputs": [
    {
     "data": {
      "text/html": [
       "<div>\n",
       "<style scoped>\n",
       "    .dataframe tbody tr th:only-of-type {\n",
       "        vertical-align: middle;\n",
       "    }\n",
       "\n",
       "    .dataframe tbody tr th {\n",
       "        vertical-align: top;\n",
       "    }\n",
       "\n",
       "    .dataframe thead th {\n",
       "        text-align: right;\n",
       "    }\n",
       "</style>\n",
       "<table border=\"1\" class=\"dataframe\">\n",
       "  <thead>\n",
       "    <tr style=\"text-align: right;\">\n",
       "      <th></th>\n",
       "      <th>Headlines</th>\n",
       "      <th>Publish Time</th>\n",
       "      <th>News_link</th>\n",
       "    </tr>\n",
       "  </thead>\n",
       "  <tbody>\n",
       "    <tr>\n",
       "      <th>0</th>\n",
       "      <td>If you use these 7 toxic phrases, you might ha...</td>\n",
       "      <td>7 Min Ago</td>\n",
       "      <td>https://www.cnbc.com/2023/08/17/toxic-phrases-...</td>\n",
       "    </tr>\n",
       "    <tr>\n",
       "      <th>1</th>\n",
       "      <td>This company is the No. 1 software player in A...</td>\n",
       "      <td>10 Min Ago</td>\n",
       "      <td>https://www.cnbc.com/2023/08/17/jim-cramer-say...</td>\n",
       "    </tr>\n",
       "    <tr>\n",
       "      <th>2</th>\n",
       "      <td>Google A.I. researcher left to build a startup...</td>\n",
       "      <td>26 Min Ago</td>\n",
       "      <td>https://www.cnbc.com/2023/08/17/transformer-co...</td>\n",
       "    </tr>\n",
       "    <tr>\n",
       "      <th>3</th>\n",
       "      <td>Bitcoin falls near two-month low after Fed min...</td>\n",
       "      <td>34 Min Ago</td>\n",
       "      <td>https://www.cnbc.com/2023/08/17/bitcoin-nears-...</td>\n",
       "    </tr>\n",
       "    <tr>\n",
       "      <th>4</th>\n",
       "      <td>UK defense contractor BAE buying Ball's aerosp...</td>\n",
       "      <td>35 Min Ago</td>\n",
       "      <td>https://www.cnbc.com/2023/08/17/bae-buys-ball-...</td>\n",
       "    </tr>\n",
       "    <tr>\n",
       "      <th>5</th>\n",
       "      <td>Buy this semiconductor stock that can rally mo...</td>\n",
       "      <td>38 Min Ago</td>\n",
       "      <td>https://www.cnbc.com/2023/08/17/buy-this-semic...</td>\n",
       "    </tr>\n",
       "    <tr>\n",
       "      <th>6</th>\n",
       "      <td>Here are the 11 stocks Jim Cramer is watching,...</td>\n",
       "      <td>43 Min Ago</td>\n",
       "      <td>https://www.cnbc.com/2023/08/17/here-are-the-1...</td>\n",
       "    </tr>\n",
       "    <tr>\n",
       "      <th>7</th>\n",
       "      <td>David Roche: China's economic model is 'washed...</td>\n",
       "      <td>1 Hour Ago</td>\n",
       "      <td>https://www.cnbc.com/2023/08/17/david-roche-ch...</td>\n",
       "    </tr>\n",
       "    <tr>\n",
       "      <th>8</th>\n",
       "      <td>Jim Cramer's top 10 things to watch in the sto...</td>\n",
       "      <td>1 Hour Ago</td>\n",
       "      <td>https://www.cnbc.com/2023/08/17/jim-cramers-to...</td>\n",
       "    </tr>\n",
       "    <tr>\n",
       "      <th>9</th>\n",
       "      <td>Self-made millionaire: 'Girl math' is all over...</td>\n",
       "      <td>1 Hour Ago</td>\n",
       "      <td>https://www.cnbc.com/2023/08/17/tori-dunlap-vi...</td>\n",
       "    </tr>\n",
       "    <tr>\n",
       "      <th>10</th>\n",
       "      <td>Meta, OpenAI, Anthropic, Cohere A.I. models al...</td>\n",
       "      <td>1 Hour Ago</td>\n",
       "      <td>https://www.cnbc.com/2023/08/17/which-ai-is-mo...</td>\n",
       "    </tr>\n",
       "    <tr>\n",
       "      <th>11</th>\n",
       "      <td>NYC bans TikTok on government devices</td>\n",
       "      <td>2 Hours Ago</td>\n",
       "      <td>https://www.cnbc.com/2023/08/17/tiktok-banned-...</td>\n",
       "    </tr>\n",
       "    <tr>\n",
       "      <th>12</th>\n",
       "      <td>Stocks making the biggest premarket moves: Wal...</td>\n",
       "      <td>2 Hours Ago</td>\n",
       "      <td>https://www.cnbc.com/2023/08/17/stocks-making-...</td>\n",
       "    </tr>\n",
       "    <tr>\n",
       "      <th>13</th>\n",
       "      <td>Top China official urges more secrecy in the c...</td>\n",
       "      <td>2 Hours Ago</td>\n",
       "      <td>https://www.cnbc.com/2023/08/17/top-china-offi...</td>\n",
       "    </tr>\n",
       "    <tr>\n",
       "      <th>14</th>\n",
       "      <td>Thursday's top analyst calls: Apple, Amazon, N...</td>\n",
       "      <td>2 Hours Ago</td>\n",
       "      <td>https://www.cnbc.com/2023/08/17/thursdays-top-...</td>\n",
       "    </tr>\n",
       "    <tr>\n",
       "      <th>15</th>\n",
       "      <td>Global smartphone market to hit decade low in ...</td>\n",
       "      <td>2 Hours Ago</td>\n",
       "      <td>https://www.cnbc.com/2023/08/17/global-smartph...</td>\n",
       "    </tr>\n",
       "    <tr>\n",
       "      <th>16</th>\n",
       "      <td>Blue Shield of California taps Amazon, Cost Pl...</td>\n",
       "      <td>2 Hours Ago</td>\n",
       "      <td>https://www.cnbc.com/2023/08/17/blue-shield-of...</td>\n",
       "    </tr>\n",
       "    <tr>\n",
       "      <th>17</th>\n",
       "      <td>World’s longest rail tunnel to close for month...</td>\n",
       "      <td>3 Hours Ago</td>\n",
       "      <td>https://www.cnbc.com/2023/08/17/gotthard-base-...</td>\n",
       "    </tr>\n",
       "    <tr>\n",
       "      <th>18</th>\n",
       "      <td>These 3 steps can help you cover rising colleg...</td>\n",
       "      <td>3 Hours Ago</td>\n",
       "      <td>https://www.cnbc.com/2023/08/17/3-steps-can-he...</td>\n",
       "    </tr>\n",
       "    <tr>\n",
       "      <th>19</th>\n",
       "      <td>5 things to know before the stock market opens</td>\n",
       "      <td>3 Hours Ago</td>\n",
       "      <td>https://www.cnbc.com/2023/08/17/5-things-to-kn...</td>\n",
       "    </tr>\n",
       "    <tr>\n",
       "      <th>20</th>\n",
       "      <td>Europe's Stripe rival Adyen dives 28% after sl...</td>\n",
       "      <td>3 Hours Ago</td>\n",
       "      <td>https://www.cnbc.com/2023/08/17/adyen-earnings...</td>\n",
       "    </tr>\n",
       "    <tr>\n",
       "      <th>21</th>\n",
       "      <td>JPMorgan upgrades this eye care stock that can...</td>\n",
       "      <td>3 Hours Ago</td>\n",
       "      <td>https://www.cnbc.com/2023/08/17/jpmorgan-upgra...</td>\n",
       "    </tr>\n",
       "    <tr>\n",
       "      <th>22</th>\n",
       "      <td>Some Buy Buy Baby, Harmon stores to reopen as ...</td>\n",
       "      <td>3 Hours Ago</td>\n",
       "      <td>https://www.cnbc.com/2023/08/17/buy-buy-baby-h...</td>\n",
       "    </tr>\n",
       "    <tr>\n",
       "      <th>23</th>\n",
       "      <td>Here's why Americans can't stop living paychec...</td>\n",
       "      <td>3 Hours Ago</td>\n",
       "      <td>https://www.cnbc.com/2023/08/17/heres-why-amer...</td>\n",
       "    </tr>\n",
       "    <tr>\n",
       "      <th>24</th>\n",
       "      <td>Buy this Mexico-based telecom stock after a re...</td>\n",
       "      <td>4 Hours Ago</td>\n",
       "      <td>https://www.cnbc.com/2023/08/17/buy-this-mexic...</td>\n",
       "    </tr>\n",
       "    <tr>\n",
       "      <th>25</th>\n",
       "      <td>BofA upgrades this software stock, says it can...</td>\n",
       "      <td>4 Hours Ago</td>\n",
       "      <td>https://www.cnbc.com/2023/08/17/bank-of-americ...</td>\n",
       "    </tr>\n",
       "    <tr>\n",
       "      <th>26</th>\n",
       "      <td>China is considering countermeasures to Biden'...</td>\n",
       "      <td>6 Hours Ago</td>\n",
       "      <td>https://www.cnbc.com/2023/08/17/chinas-commerc...</td>\n",
       "    </tr>\n",
       "    <tr>\n",
       "      <th>27</th>\n",
       "      <td>10-year yield rises to highest level since Oct...</td>\n",
       "      <td>6 Hours Ago</td>\n",
       "      <td>https://www.cnbc.com/2023/08/17/us-treasury-yi...</td>\n",
       "    </tr>\n",
       "    <tr>\n",
       "      <th>28</th>\n",
       "      <td>Ukraine sees no hope for F-16s this year; Naft...</td>\n",
       "      <td>8 Hours Ago</td>\n",
       "      <td>https://www.cnbc.com/2023/08/17/ukraine-war-li...</td>\n",
       "    </tr>\n",
       "    <tr>\n",
       "      <th>29</th>\n",
       "      <td>Russia's inflation spike sets Kremlin and cent...</td>\n",
       "      <td>8 Hours Ago</td>\n",
       "      <td>https://www.cnbc.com/2023/08/17/russias-inflat...</td>\n",
       "    </tr>\n",
       "  </tbody>\n",
       "</table>\n",
       "</div>"
      ],
      "text/plain": [
       "                                            Headlines Publish Time  \\\n",
       "0   If you use these 7 toxic phrases, you might ha...    7 Min Ago   \n",
       "1   This company is the No. 1 software player in A...   10 Min Ago   \n",
       "2   Google A.I. researcher left to build a startup...   26 Min Ago   \n",
       "3   Bitcoin falls near two-month low after Fed min...   34 Min Ago   \n",
       "4   UK defense contractor BAE buying Ball's aerosp...   35 Min Ago   \n",
       "5   Buy this semiconductor stock that can rally mo...   38 Min Ago   \n",
       "6   Here are the 11 stocks Jim Cramer is watching,...   43 Min Ago   \n",
       "7   David Roche: China's economic model is 'washed...   1 Hour Ago   \n",
       "8   Jim Cramer's top 10 things to watch in the sto...   1 Hour Ago   \n",
       "9   Self-made millionaire: 'Girl math' is all over...   1 Hour Ago   \n",
       "10  Meta, OpenAI, Anthropic, Cohere A.I. models al...   1 Hour Ago   \n",
       "11             NYC bans TikTok on government devices   2 Hours Ago   \n",
       "12  Stocks making the biggest premarket moves: Wal...  2 Hours Ago   \n",
       "13  Top China official urges more secrecy in the c...  2 Hours Ago   \n",
       "14  Thursday's top analyst calls: Apple, Amazon, N...  2 Hours Ago   \n",
       "15  Global smartphone market to hit decade low in ...  2 Hours Ago   \n",
       "16  Blue Shield of California taps Amazon, Cost Pl...  2 Hours Ago   \n",
       "17  World’s longest rail tunnel to close for month...  3 Hours Ago   \n",
       "18  These 3 steps can help you cover rising colleg...  3 Hours Ago   \n",
       "19     5 things to know before the stock market opens  3 Hours Ago   \n",
       "20  Europe's Stripe rival Adyen dives 28% after sl...  3 Hours Ago   \n",
       "21  JPMorgan upgrades this eye care stock that can...  3 Hours Ago   \n",
       "22  Some Buy Buy Baby, Harmon stores to reopen as ...  3 Hours Ago   \n",
       "23  Here's why Americans can't stop living paychec...  3 Hours Ago   \n",
       "24  Buy this Mexico-based telecom stock after a re...  4 Hours Ago   \n",
       "25  BofA upgrades this software stock, says it can...  4 Hours Ago   \n",
       "26  China is considering countermeasures to Biden'...  6 Hours Ago   \n",
       "27  10-year yield rises to highest level since Oct...  6 Hours Ago   \n",
       "28  Ukraine sees no hope for F-16s this year; Naft...  8 Hours Ago   \n",
       "29  Russia's inflation spike sets Kremlin and cent...  8 Hours Ago   \n",
       "\n",
       "                                            News_link  \n",
       "0   https://www.cnbc.com/2023/08/17/toxic-phrases-...  \n",
       "1   https://www.cnbc.com/2023/08/17/jim-cramer-say...  \n",
       "2   https://www.cnbc.com/2023/08/17/transformer-co...  \n",
       "3   https://www.cnbc.com/2023/08/17/bitcoin-nears-...  \n",
       "4   https://www.cnbc.com/2023/08/17/bae-buys-ball-...  \n",
       "5   https://www.cnbc.com/2023/08/17/buy-this-semic...  \n",
       "6   https://www.cnbc.com/2023/08/17/here-are-the-1...  \n",
       "7   https://www.cnbc.com/2023/08/17/david-roche-ch...  \n",
       "8   https://www.cnbc.com/2023/08/17/jim-cramers-to...  \n",
       "9   https://www.cnbc.com/2023/08/17/tori-dunlap-vi...  \n",
       "10  https://www.cnbc.com/2023/08/17/which-ai-is-mo...  \n",
       "11  https://www.cnbc.com/2023/08/17/tiktok-banned-...  \n",
       "12  https://www.cnbc.com/2023/08/17/stocks-making-...  \n",
       "13  https://www.cnbc.com/2023/08/17/top-china-offi...  \n",
       "14  https://www.cnbc.com/2023/08/17/thursdays-top-...  \n",
       "15  https://www.cnbc.com/2023/08/17/global-smartph...  \n",
       "16  https://www.cnbc.com/2023/08/17/blue-shield-of...  \n",
       "17  https://www.cnbc.com/2023/08/17/gotthard-base-...  \n",
       "18  https://www.cnbc.com/2023/08/17/3-steps-can-he...  \n",
       "19  https://www.cnbc.com/2023/08/17/5-things-to-kn...  \n",
       "20  https://www.cnbc.com/2023/08/17/adyen-earnings...  \n",
       "21  https://www.cnbc.com/2023/08/17/jpmorgan-upgra...  \n",
       "22  https://www.cnbc.com/2023/08/17/buy-buy-baby-h...  \n",
       "23  https://www.cnbc.com/2023/08/17/heres-why-amer...  \n",
       "24  https://www.cnbc.com/2023/08/17/buy-this-mexic...  \n",
       "25  https://www.cnbc.com/2023/08/17/bank-of-americ...  \n",
       "26  https://www.cnbc.com/2023/08/17/chinas-commerc...  \n",
       "27  https://www.cnbc.com/2023/08/17/us-treasury-yi...  \n",
       "28  https://www.cnbc.com/2023/08/17/ukraine-war-li...  \n",
       "29  https://www.cnbc.com/2023/08/17/russias-inflat...  "
      ]
     },
     "execution_count": 18,
     "metadata": {},
     "output_type": "execute_result"
    }
   ],
   "source": [
    "#Question5 _ output\n",
    "\n",
    "latest_news"
   ]
  },
  {
   "cell_type": "code",
   "execution_count": 19,
   "id": "b8ee65bf",
   "metadata": {},
   "outputs": [],
   "source": [
    "#Question6\n",
    "\n",
    "page8 = requests.get('https://www.journals.elsevier.com/artificial-intelligence/most-downloaded-articles')"
   ]
  },
  {
   "cell_type": "code",
   "execution_count": 20,
   "id": "f4fb3b28",
   "metadata": {},
   "outputs": [
    {
     "data": {
      "text/plain": [
       "<Response [200]>"
      ]
     },
     "execution_count": 20,
     "metadata": {},
     "output_type": "execute_result"
    }
   ],
   "source": [
    "page8"
   ]
  },
  {
   "cell_type": "code",
   "execution_count": 21,
   "id": "4edd0f15",
   "metadata": {},
   "outputs": [],
   "source": [
    "soup8 = BeautifulSoup(page8.content)"
   ]
  },
  {
   "cell_type": "code",
   "execution_count": 22,
   "id": "c752e819",
   "metadata": {},
   "outputs": [],
   "source": [
    "paper = []\n",
    "for i in soup8.find_all('h2', class_=\"sc-1qrq3sd-1 gRGSUS sc-1nmom32-0 sc-1nmom32-1 btcbYu goSKRg\"):\n",
    "    paper.append(i.text)"
   ]
  },
  {
   "cell_type": "code",
   "execution_count": 23,
   "id": "6af0d49e",
   "metadata": {},
   "outputs": [],
   "source": [
    "authors = []\n",
    "for i in soup8.find_all('span', class_=\"sc-1w3fpd7-0 dnCnAO\"):\n",
    "    authors.append(i.text)"
   ]
  },
  {
   "cell_type": "code",
   "execution_count": 24,
   "id": "82b96aee",
   "metadata": {},
   "outputs": [],
   "source": [
    "dates = []\n",
    "for i in soup8.find_all('span', class_=\"sc-1thf9ly-2 dvggWt\"):\n",
    "    dates.append(i.text)"
   ]
  },
  {
   "cell_type": "code",
   "execution_count": 27,
   "id": "54b64cf5",
   "metadata": {},
   "outputs": [],
   "source": [
    "links = []\n",
    "for i in soup8.find_all('a', class_=\"sc-5smygv-0 fIXTHm\"):\n",
    "    links.append(i.get('href'))"
   ]
  },
  {
   "cell_type": "code",
   "execution_count": 29,
   "id": "7109e4f4",
   "metadata": {},
   "outputs": [],
   "source": [
    "AI_papers = pd.DataFrame({'Title': paper, 'Writers': authors, 'Published on': dates, 'Link': links})"
   ]
  },
  {
   "cell_type": "code",
   "execution_count": 30,
   "id": "eb649026",
   "metadata": {},
   "outputs": [
    {
     "data": {
      "text/html": [
       "<div>\n",
       "<style scoped>\n",
       "    .dataframe tbody tr th:only-of-type {\n",
       "        vertical-align: middle;\n",
       "    }\n",
       "\n",
       "    .dataframe tbody tr th {\n",
       "        vertical-align: top;\n",
       "    }\n",
       "\n",
       "    .dataframe thead th {\n",
       "        text-align: right;\n",
       "    }\n",
       "</style>\n",
       "<table border=\"1\" class=\"dataframe\">\n",
       "  <thead>\n",
       "    <tr style=\"text-align: right;\">\n",
       "      <th></th>\n",
       "      <th>Title</th>\n",
       "      <th>Writers</th>\n",
       "      <th>Published on</th>\n",
       "      <th>Link</th>\n",
       "    </tr>\n",
       "  </thead>\n",
       "  <tbody>\n",
       "    <tr>\n",
       "      <th>0</th>\n",
       "      <td>Reward is enough</td>\n",
       "      <td>David Silver, Satinder Singh, Doina Precup, Ri...</td>\n",
       "      <td>October 2021</td>\n",
       "      <td>https://www.sciencedirect.com/science/article/...</td>\n",
       "    </tr>\n",
       "    <tr>\n",
       "      <th>1</th>\n",
       "      <td>Explanation in artificial intelligence: Insigh...</td>\n",
       "      <td>Tim Miller</td>\n",
       "      <td>February 2019</td>\n",
       "      <td>https://www.sciencedirect.com/science/article/...</td>\n",
       "    </tr>\n",
       "    <tr>\n",
       "      <th>2</th>\n",
       "      <td>Creativity and artificial intelligence</td>\n",
       "      <td>Margaret A. Boden</td>\n",
       "      <td>August 1998</td>\n",
       "      <td>https://www.sciencedirect.com/science/article/...</td>\n",
       "    </tr>\n",
       "    <tr>\n",
       "      <th>3</th>\n",
       "      <td>Conflict-based search for optimal multi-agent ...</td>\n",
       "      <td>Guni Sharon, Roni Stern, Ariel Felner, Nathan ...</td>\n",
       "      <td>February 2015</td>\n",
       "      <td>https://www.sciencedirect.com/science/article/...</td>\n",
       "    </tr>\n",
       "    <tr>\n",
       "      <th>4</th>\n",
       "      <td>Knowledge graphs as tools for explainable mach...</td>\n",
       "      <td>Ilaria Tiddi, Stefan Schlobach</td>\n",
       "      <td>January 2022</td>\n",
       "      <td>https://www.sciencedirect.com/science/article/...</td>\n",
       "    </tr>\n",
       "    <tr>\n",
       "      <th>5</th>\n",
       "      <td>Law and logic: A review from an argumentation ...</td>\n",
       "      <td>Henry Prakken, Giovanni Sartor</td>\n",
       "      <td>October 2015</td>\n",
       "      <td>https://www.sciencedirect.com/science/article/...</td>\n",
       "    </tr>\n",
       "    <tr>\n",
       "      <th>6</th>\n",
       "      <td>Between MDPs and semi-MDPs: A framework for te...</td>\n",
       "      <td>Richard S. Sutton, Doina Precup, Satinder Singh</td>\n",
       "      <td>August 1999</td>\n",
       "      <td>https://www.sciencedirect.com/science/article/...</td>\n",
       "    </tr>\n",
       "    <tr>\n",
       "      <th>7</th>\n",
       "      <td>Explaining individual predictions when feature...</td>\n",
       "      <td>Kjersti Aas, Martin Jullum, Anders Løland</td>\n",
       "      <td>September 2021</td>\n",
       "      <td>https://www.sciencedirect.com/science/article/...</td>\n",
       "    </tr>\n",
       "    <tr>\n",
       "      <th>8</th>\n",
       "      <td>Multiple object tracking: A literature review</td>\n",
       "      <td>Wenhan Luo, Junliang Xing and 4 more</td>\n",
       "      <td>April 2021</td>\n",
       "      <td>https://www.sciencedirect.com/science/article/...</td>\n",
       "    </tr>\n",
       "    <tr>\n",
       "      <th>9</th>\n",
       "      <td>A survey of inverse reinforcement learning: Ch...</td>\n",
       "      <td>Saurabh Arora, Prashant Doshi</td>\n",
       "      <td>August 2021</td>\n",
       "      <td>https://www.sciencedirect.com/science/article/...</td>\n",
       "    </tr>\n",
       "    <tr>\n",
       "      <th>10</th>\n",
       "      <td>Evaluating XAI: A comparison of rule-based and...</td>\n",
       "      <td>Jasper van der Waa, Elisabeth Nieuwburg, Anita...</td>\n",
       "      <td>February 2021</td>\n",
       "      <td>https://www.sciencedirect.com/science/article/...</td>\n",
       "    </tr>\n",
       "    <tr>\n",
       "      <th>11</th>\n",
       "      <td>Explainable AI tools for legal reasoning about...</td>\n",
       "      <td>Joe Collenette, Katie Atkinson, Trevor Bench-C...</td>\n",
       "      <td>April 2023</td>\n",
       "      <td>https://www.sciencedirect.com/science/article/...</td>\n",
       "    </tr>\n",
       "    <tr>\n",
       "      <th>12</th>\n",
       "      <td>Hard choices in artificial intelligence</td>\n",
       "      <td>Roel Dobbe, Thomas Krendl Gilbert, Yonatan Mintz</td>\n",
       "      <td>November 2021</td>\n",
       "      <td>https://www.sciencedirect.com/science/article/...</td>\n",
       "    </tr>\n",
       "    <tr>\n",
       "      <th>13</th>\n",
       "      <td>Assessing the communication gap between AI mod...</td>\n",
       "      <td>Oskar Wysocki, Jessica Katharine Davies and 5 ...</td>\n",
       "      <td>March 2023</td>\n",
       "      <td>https://www.sciencedirect.com/science/article/...</td>\n",
       "    </tr>\n",
       "    <tr>\n",
       "      <th>14</th>\n",
       "      <td>Explaining black-box classifiers using post-ho...</td>\n",
       "      <td>Eoin M. Kenny, Courtney Ford, Molly Quinn, Mar...</td>\n",
       "      <td>May 2021</td>\n",
       "      <td>https://www.sciencedirect.com/science/article/...</td>\n",
       "    </tr>\n",
       "    <tr>\n",
       "      <th>15</th>\n",
       "      <td>The Hanabi challenge: A new frontier for AI re...</td>\n",
       "      <td>Nolan Bard, Jakob N. Foerster and 13 more</td>\n",
       "      <td>March 2020</td>\n",
       "      <td>https://www.sciencedirect.com/science/article/...</td>\n",
       "    </tr>\n",
       "    <tr>\n",
       "      <th>16</th>\n",
       "      <td>Wrappers for feature subset selection</td>\n",
       "      <td>Ron Kohavi, George H. John</td>\n",
       "      <td>December 1997</td>\n",
       "      <td>https://www.sciencedirect.com/science/article/...</td>\n",
       "    </tr>\n",
       "    <tr>\n",
       "      <th>17</th>\n",
       "      <td>Artificial cognition for social human–robot in...</td>\n",
       "      <td>Séverin Lemaignan, Mathieu Warnier and 3 more</td>\n",
       "      <td>June 2017</td>\n",
       "      <td>https://www.sciencedirect.com/science/article/...</td>\n",
       "    </tr>\n",
       "    <tr>\n",
       "      <th>18</th>\n",
       "      <td>A review of possible effects of cognitive bias...</td>\n",
       "      <td>Tomáš Kliegr, Štěpán Bahník, Johannes Fürnkranz</td>\n",
       "      <td>June 2021</td>\n",
       "      <td>https://www.sciencedirect.com/science/article/...</td>\n",
       "    </tr>\n",
       "    <tr>\n",
       "      <th>19</th>\n",
       "      <td>The multifaceted impact of Ada Lovelace in the...</td>\n",
       "      <td>Luigia Carlucci Aiello</td>\n",
       "      <td>June 2016</td>\n",
       "      <td>https://www.sciencedirect.com/science/article/...</td>\n",
       "    </tr>\n",
       "    <tr>\n",
       "      <th>20</th>\n",
       "      <td>Robot ethics: Mapping the issues for a mechani...</td>\n",
       "      <td>Patrick Lin, Keith Abney, George Bekey</td>\n",
       "      <td>April 2011</td>\n",
       "      <td>https://www.sciencedirect.com/science/article/...</td>\n",
       "    </tr>\n",
       "    <tr>\n",
       "      <th>21</th>\n",
       "      <td>Reward (Mis)design for autonomous driving</td>\n",
       "      <td>W. Bradley Knox, Alessandro Allievi and 3 more</td>\n",
       "      <td>March 2023</td>\n",
       "      <td>https://www.sciencedirect.com/science/article/...</td>\n",
       "    </tr>\n",
       "    <tr>\n",
       "      <th>22</th>\n",
       "      <td>Planning and acting in partially observable st...</td>\n",
       "      <td>Leslie Pack Kaelbling, Michael L. Littman, Ant...</td>\n",
       "      <td>May 1998</td>\n",
       "      <td>https://www.sciencedirect.com/science/article/...</td>\n",
       "    </tr>\n",
       "    <tr>\n",
       "      <th>23</th>\n",
       "      <td>What do we want from Explainable Artificial In...</td>\n",
       "      <td>Markus Langer, Daniel Oster and 6 more</td>\n",
       "      <td>July 2021</td>\n",
       "      <td>https://www.sciencedirect.com/science/article/...</td>\n",
       "    </tr>\n",
       "  </tbody>\n",
       "</table>\n",
       "</div>"
      ],
      "text/plain": [
       "                                                Title  \\\n",
       "0                                    Reward is enough   \n",
       "1   Explanation in artificial intelligence: Insigh...   \n",
       "2              Creativity and artificial intelligence   \n",
       "3   Conflict-based search for optimal multi-agent ...   \n",
       "4   Knowledge graphs as tools for explainable mach...   \n",
       "5   Law and logic: A review from an argumentation ...   \n",
       "6   Between MDPs and semi-MDPs: A framework for te...   \n",
       "7   Explaining individual predictions when feature...   \n",
       "8       Multiple object tracking: A literature review   \n",
       "9   A survey of inverse reinforcement learning: Ch...   \n",
       "10  Evaluating XAI: A comparison of rule-based and...   \n",
       "11  Explainable AI tools for legal reasoning about...   \n",
       "12            Hard choices in artificial intelligence   \n",
       "13  Assessing the communication gap between AI mod...   \n",
       "14  Explaining black-box classifiers using post-ho...   \n",
       "15  The Hanabi challenge: A new frontier for AI re...   \n",
       "16              Wrappers for feature subset selection   \n",
       "17  Artificial cognition for social human–robot in...   \n",
       "18  A review of possible effects of cognitive bias...   \n",
       "19  The multifaceted impact of Ada Lovelace in the...   \n",
       "20  Robot ethics: Mapping the issues for a mechani...   \n",
       "21          Reward (Mis)design for autonomous driving   \n",
       "22  Planning and acting in partially observable st...   \n",
       "23  What do we want from Explainable Artificial In...   \n",
       "\n",
       "                                              Writers    Published on  \\\n",
       "0   David Silver, Satinder Singh, Doina Precup, Ri...    October 2021   \n",
       "1                                         Tim Miller    February 2019   \n",
       "2                                  Margaret A. Boden      August 1998   \n",
       "3   Guni Sharon, Roni Stern, Ariel Felner, Nathan ...   February 2015   \n",
       "4                     Ilaria Tiddi, Stefan Schlobach     January 2022   \n",
       "5                     Henry Prakken, Giovanni Sartor     October 2015   \n",
       "6    Richard S. Sutton, Doina Precup, Satinder Singh      August 1999   \n",
       "7          Kjersti Aas, Martin Jullum, Anders Løland   September 2021   \n",
       "8                Wenhan Luo, Junliang Xing and 4 more      April 2021   \n",
       "9                      Saurabh Arora, Prashant Doshi      August 2021   \n",
       "10  Jasper van der Waa, Elisabeth Nieuwburg, Anita...   February 2021   \n",
       "11  Joe Collenette, Katie Atkinson, Trevor Bench-C...      April 2023   \n",
       "12  Roel Dobbe, Thomas Krendl Gilbert, Yonatan Mintz    November 2021   \n",
       "13  Oskar Wysocki, Jessica Katharine Davies and 5 ...      March 2023   \n",
       "14  Eoin M. Kenny, Courtney Ford, Molly Quinn, Mar...        May 2021   \n",
       "15          Nolan Bard, Jakob N. Foerster and 13 more      March 2020   \n",
       "16                        Ron Kohavi, George H. John    December 1997   \n",
       "17      Séverin Lemaignan, Mathieu Warnier and 3 more       June 2017   \n",
       "18   Tomáš Kliegr, Štěpán Bahník, Johannes Fürnkranz        June 2021   \n",
       "19                            Luigia Carlucci Aiello        June 2016   \n",
       "20            Patrick Lin, Keith Abney, George Bekey       April 2011   \n",
       "21     W. Bradley Knox, Alessandro Allievi and 3 more      March 2023   \n",
       "22  Leslie Pack Kaelbling, Michael L. Littman, Ant...        May 1998   \n",
       "23             Markus Langer, Daniel Oster and 6 more       July 2021   \n",
       "\n",
       "                                                 Link  \n",
       "0   https://www.sciencedirect.com/science/article/...  \n",
       "1   https://www.sciencedirect.com/science/article/...  \n",
       "2   https://www.sciencedirect.com/science/article/...  \n",
       "3   https://www.sciencedirect.com/science/article/...  \n",
       "4   https://www.sciencedirect.com/science/article/...  \n",
       "5   https://www.sciencedirect.com/science/article/...  \n",
       "6   https://www.sciencedirect.com/science/article/...  \n",
       "7   https://www.sciencedirect.com/science/article/...  \n",
       "8   https://www.sciencedirect.com/science/article/...  \n",
       "9   https://www.sciencedirect.com/science/article/...  \n",
       "10  https://www.sciencedirect.com/science/article/...  \n",
       "11  https://www.sciencedirect.com/science/article/...  \n",
       "12  https://www.sciencedirect.com/science/article/...  \n",
       "13  https://www.sciencedirect.com/science/article/...  \n",
       "14  https://www.sciencedirect.com/science/article/...  \n",
       "15  https://www.sciencedirect.com/science/article/...  \n",
       "16  https://www.sciencedirect.com/science/article/...  \n",
       "17  https://www.sciencedirect.com/science/article/...  \n",
       "18  https://www.sciencedirect.com/science/article/...  \n",
       "19  https://www.sciencedirect.com/science/article/...  \n",
       "20  https://www.sciencedirect.com/science/article/...  \n",
       "21  https://www.sciencedirect.com/science/article/...  \n",
       "22  https://www.sciencedirect.com/science/article/...  \n",
       "23  https://www.sciencedirect.com/science/article/...  "
      ]
     },
     "execution_count": 30,
     "metadata": {},
     "output_type": "execute_result"
    }
   ],
   "source": [
    "#Question6 _ output\n",
    "\n",
    "AI_papers"
   ]
  },
  {
   "cell_type": "code",
   "execution_count": null,
   "id": "34bcec7d",
   "metadata": {},
   "outputs": [],
   "source": [
    "#Question7 - unfortunately I cannot access the website, I think it's not accessible in the UK and I don't have a VPN"
   ]
  }
 ],
 "metadata": {
  "kernelspec": {
   "display_name": "Python 3 (ipykernel)",
   "language": "python",
   "name": "python3"
  },
  "language_info": {
   "codemirror_mode": {
    "name": "ipython",
    "version": 3
   },
   "file_extension": ".py",
   "mimetype": "text/x-python",
   "name": "python",
   "nbconvert_exporter": "python",
   "pygments_lexer": "ipython3",
   "version": "3.9.13"
  }
 },
 "nbformat": 4,
 "nbformat_minor": 5
}
